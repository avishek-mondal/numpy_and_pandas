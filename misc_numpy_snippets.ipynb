{
 "cells": [
  {
   "cell_type": "markdown",
   "metadata": {},
   "source": [
    "# Various numpy snippets\n",
    "Contains various numpy snippets worth looking back over"
   ]
  },
  {
   "cell_type": "markdown",
   "metadata": {},
   "source": [
    "##  Subclassing\n",
    "From [here](https://numpy.org/doc/stable/user/basics.subclassing.html)"
   ]
  },
  {
   "cell_type": "code",
   "execution_count": 1,
   "metadata": {},
   "outputs": [],
   "source": [
    "import numpy as np\n",
    "\n",
    "class C(np.ndarray):\n",
    "    def __new__(cls, *args, **kwargs):\n",
    "        print('In __new__ with class %s' % cls)\n",
    "        return super().__new__(cls, *args, **kwargs)\n",
    "\n",
    "    def __init__(self, *args, **kwargs):\n",
    "        # in practice you probably will not need or want an __init__\n",
    "        # method for your subclass\n",
    "        print('In __init__ with class %s' % self.__class__)\n",
    "\n",
    "    def __array_finalize__(self, obj):\n",
    "        print('In array_finalize:')\n",
    "        print('   self type is %s' % type(self))\n",
    "        print('   obj type is %s' % type(obj))\n"
   ]
  },
  {
   "cell_type": "code",
   "execution_count": 2,
   "metadata": {},
   "outputs": [
    {
     "name": "stdout",
     "output_type": "stream",
     "text": [
      "In __new__ with class <class '__main__.C'>\n",
      "In array_finalize:\n",
      "   self type is <class '__main__.C'>\n",
      "   obj type is <class 'NoneType'>\n",
      "In __init__ with class <class '__main__.C'>\n",
      "Done with explicit construction\n",
      "In array_finalize:\n",
      "   self type is <class '__main__.C'>\n",
      "   obj type is <class 'numpy.ndarray'>\n",
      "Done with view casting\n",
      "In array_finalize:\n",
      "   self type is <class '__main__.C'>\n",
      "   obj type is <class '__main__.C'>\n"
     ]
    }
   ],
   "source": [
    "# Explicit constructor\n",
    "c = C((10,))\n",
    "print(\"Done with explicit construction\")\n",
    "\n",
    "# View casting\n",
    "a = np.arange(10) \n",
    "cast_a = a.view(C)\n",
    "print(\"Done with view casting\")\n",
    "\n",
    "# Slicing (example of new-from-template)\n",
    "cv = c[:1]"
   ]
  },
  {
   "cell_type": "markdown",
   "metadata": {},
   "source": [
    "When called from the explicit constructor, obj is None\n",
    "\n",
    "When called from view casting, obj can be an instance of any subclass of ndarray, including our own.\n",
    "\n",
    "When called in new-from-template, obj is another instance of our own subclass, that we might use to update the new self instance."
   ]
  },
  {
   "cell_type": "code",
   "execution_count": 4,
   "metadata": {},
   "outputs": [],
   "source": [
    "class InfoArray(np.ndarray):\n",
    "\n",
    "    def __new__(subtype, shape, dtype=float, buffer=None, offset=0,\n",
    "                strides=None, order=None, info=None):\n",
    "        # Create the ndarray instance of our type, given the usual\n",
    "        # ndarray input arguments.  This will call the standard\n",
    "        # ndarray constructor, but return an object of our type.\n",
    "        # It also triggers a call to InfoArray.__array_finalize__\n",
    "        obj = super().__new__(subtype, shape, dtype,\n",
    "                              buffer, offset, strides, order)\n",
    "        # set the new 'info' attribute to the value passed\n",
    "        obj.info = info\n",
    "        # Finally, we must return the newly created object:\n",
    "        return obj\n",
    "\n",
    "    def __array_finalize__(self, obj):\n",
    "        # ``self`` is a new object resulting from\n",
    "        # ndarray.__new__(InfoArray, ...), therefore it only has\n",
    "        # attributes that the ndarray.__new__ constructor gave it -\n",
    "        # i.e. those of a standard ndarray.\n",
    "        #\n",
    "        # We could have got to the ndarray.__new__ call in 3 ways:\n",
    "        # From an explicit constructor - e.g. InfoArray():\n",
    "        #    obj is None\n",
    "        #    (we're in the middle of the InfoArray.__new__\n",
    "        #    constructor, and self.info will be set when we return to\n",
    "        #    InfoArray.__new__)\n",
    "        if obj is None: return\n",
    "        # From view casting - e.g arr.view(InfoArray):\n",
    "        #    obj is arr\n",
    "        #    (type(obj) can be InfoArray)\n",
    "        # From new-from-template - e.g infoarr[:3]\n",
    "        #    type(obj) is InfoArray\n",
    "        #\n",
    "        # Note that it is here, rather than in the __new__ method,\n",
    "        # that we set the default value for 'info', because this\n",
    "        # method sees all creation of default objects - with the\n",
    "        # InfoArray.__new__ constructor, but also with\n",
    "        # arr.view(InfoArray).\n",
    "        self.info = getattr(obj, 'info', None)\n",
    "        # We do not need to return anything\n"
   ]
  },
  {
   "cell_type": "code",
   "execution_count": 6,
   "metadata": {},
   "outputs": [
    {
     "name": "stdout",
     "output_type": "stream",
     "text": [
      "information\n",
      "<class '__main__.RealisticInfoArray'>\n",
      "information\n"
     ]
    }
   ],
   "source": [
    "class RealisticInfoArray(np.ndarray):\n",
    "\n",
    "    def __new__(cls, input_array, info=None):\n",
    "        # Input array is an already formed ndarray instance\n",
    "        # We first cast to be our class type\n",
    "        obj = np.asarray(input_array).view(cls)\n",
    "        # add the new attribute to the created instance\n",
    "        obj.info = info\n",
    "        # Finally, we must return the newly created object:\n",
    "        return obj\n",
    "\n",
    "    def __array_finalize__(self, obj):\n",
    "        # see InfoArray.__array_finalize__ for comments\n",
    "        if obj is None: return\n",
    "        self.info = getattr(obj, 'info', None)\n",
    "\n",
    "arr = np.arange(5)\n",
    "obj = RealisticInfoArray(arr, info='information')\n",
    "print(obj.info)\n",
    "v = obj[1:]\n",
    "print(type(v))\n",
    "print(v.info)\n",
    "\n"
   ]
  },
  {
   "cell_type": "code",
   "execution_count": null,
   "metadata": {},
   "outputs": [],
   "source": []
  }
 ],
 "metadata": {
  "kernelspec": {
   "display_name": "Python 3.9.9 64-bit ('py-39')",
   "language": "python",
   "name": "python3"
  },
  "language_info": {
   "codemirror_mode": {
    "name": "ipython",
    "version": 3
   },
   "file_extension": ".py",
   "mimetype": "text/x-python",
   "name": "python",
   "nbconvert_exporter": "python",
   "pygments_lexer": "ipython3",
   "version": "3.9.9"
  },
  "orig_nbformat": 4,
  "vscode": {
   "interpreter": {
    "hash": "0bd928d294a327b5e7711811b48e3d6fbb7ebd8a296b593ba97841fbdc2401a8"
   }
  }
 },
 "nbformat": 4,
 "nbformat_minor": 2
}
