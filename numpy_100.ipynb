{
 "cells": [
  {
   "cell_type": "markdown",
   "metadata": {},
   "source": [
    "Exercise 1 - import numpy as np"
   ]
  },
  {
   "cell_type": "code",
   "execution_count": 2,
   "metadata": {},
   "outputs": [],
   "source": [
    "# 1. Import the numpy package under the name np\n",
    "import numpy as np"
   ]
  },
  {
   "cell_type": "code",
   "execution_count": 3,
   "metadata": {},
   "outputs": [
    {
     "name": "stdout",
     "output_type": "stream",
     "text": [
      "1.23.3\n",
      "openblas64__info:\n",
      "    libraries = ['openblas64_', 'openblas64_']\n",
      "    library_dirs = ['/usr/local/lib']\n",
      "    language = c\n",
      "    define_macros = [('HAVE_CBLAS', None), ('BLAS_SYMBOL_SUFFIX', '64_'), ('HAVE_BLAS_ILP64', None)]\n",
      "    runtime_library_dirs = ['/usr/local/lib']\n",
      "blas_ilp64_opt_info:\n",
      "    libraries = ['openblas64_', 'openblas64_']\n",
      "    library_dirs = ['/usr/local/lib']\n",
      "    language = c\n",
      "    define_macros = [('HAVE_CBLAS', None), ('BLAS_SYMBOL_SUFFIX', '64_'), ('HAVE_BLAS_ILP64', None)]\n",
      "    runtime_library_dirs = ['/usr/local/lib']\n",
      "openblas64__lapack_info:\n",
      "    libraries = ['openblas64_', 'openblas64_']\n",
      "    library_dirs = ['/usr/local/lib']\n",
      "    language = c\n",
      "    define_macros = [('HAVE_CBLAS', None), ('BLAS_SYMBOL_SUFFIX', '64_'), ('HAVE_BLAS_ILP64', None), ('HAVE_LAPACKE', None)]\n",
      "    runtime_library_dirs = ['/usr/local/lib']\n",
      "lapack_ilp64_opt_info:\n",
      "    libraries = ['openblas64_', 'openblas64_']\n",
      "    library_dirs = ['/usr/local/lib']\n",
      "    language = c\n",
      "    define_macros = [('HAVE_CBLAS', None), ('BLAS_SYMBOL_SUFFIX', '64_'), ('HAVE_BLAS_ILP64', None), ('HAVE_LAPACKE', None)]\n",
      "    runtime_library_dirs = ['/usr/local/lib']\n",
      "Supported SIMD extensions in this NumPy install:\n",
      "    baseline = SSE,SSE2,SSE3\n",
      "    found = SSSE3,SSE41,POPCNT,SSE42,AVX,F16C,FMA3,AVX2,AVX512F,AVX512CD,AVX512_SKX,AVX512_CLX,AVX512_CNL,AVX512_ICL\n",
      "    not found = AVX512_KNL\n"
     ]
    }
   ],
   "source": [
    "# 2. Print the numpy version and the configuration\n",
    "print(np.__version__)\n",
    "np.show_config()"
   ]
  },
  {
   "cell_type": "code",
   "execution_count": 4,
   "metadata": {},
   "outputs": [
    {
     "name": "stdout",
     "output_type": "stream",
     "text": [
      "[0. 0. 0. 0. 0. 0. 0. 0. 0. 0.]\n"
     ]
    }
   ],
   "source": [
    "# 3. Create a null vector of size 10\n",
    "null_vector = np.zeros(10)\n",
    "print(null_vector)"
   ]
  },
  {
   "cell_type": "code",
   "execution_count": 5,
   "metadata": {},
   "outputs": [
    {
     "name": "stdout",
     "output_type": "stream",
     "text": [
      "Size of the array: 3\n",
      "Memory size of one array element in bytes: 8\n",
      "Memory size of numpy array in bytes: 24\n"
     ]
    }
   ],
   "source": [
    "# 4. How to find the memory size of any array \n",
    "x = np.array([100,20,34])\n",
    "print(f\"Size of the array: {x.size}\")\n",
    " \n",
    "print(f\"Memory size of one array element in bytes: {x.itemsize}\")\n",
    " \n",
    "# memory size of numpy array in bytes\n",
    "print(f\"Memory size of numpy array in bytes: {x.size * x.itemsize}\")"
   ]
  },
  {
   "cell_type": "code",
   "execution_count": 9,
   "metadata": {},
   "outputs": [
    {
     "name": "stdout",
     "output_type": "stream",
     "text": [
      "add(x1, x2, /, out=None, *, where=True, casting='same_kind', order='K', dtype=None, subok=True[, signature, extobj])\n",
      "\n",
      "Add arguments element-wise.\n",
      "\n",
      "Parameters\n",
      "----------\n",
      "x1, x2 : array_like\n",
      "    The arrays to be added.\n",
      "    If ``x1.shape != x2.shape``, they must be broadcastable to a common\n",
      "    shape (which becomes the shape of the output).\n",
      "out : ndarray, None, or tuple of ndarray and None, optional\n",
      "    A location into which the result is stored. If provided, it must have\n",
      "    a shape that the inputs broadcast to. If not provided or None,\n",
      "    a freshly-allocated array is returned. A tuple (possible only as a\n",
      "    keyword argument) must have length equal to the number of outputs.\n",
      "where : array_like, optional\n",
      "    This condition is broadcast over the input. At locations where the\n",
      "    condition is True, the `out` array will be set to the ufunc result.\n",
      "    Elsewhere, the `out` array will retain its original value.\n",
      "    Note that if an uninitialized `out` array is created via the default\n",
      "    ``out=None``, locations within it where the condition is False will\n",
      "    remain uninitialized.\n",
      "**kwargs\n",
      "    For other keyword-only arguments, see the\n",
      "    :ref:`ufunc docs <ufuncs.kwargs>`.\n",
      "\n",
      "Returns\n",
      "-------\n",
      "add : ndarray or scalar\n",
      "    The sum of `x1` and `x2`, element-wise.\n",
      "    This is a scalar if both `x1` and `x2` are scalars.\n",
      "\n",
      "Notes\n",
      "-----\n",
      "Equivalent to `x1` + `x2` in terms of array broadcasting.\n",
      "\n",
      "Examples\n",
      "--------\n",
      ">>> np.add(1.0, 4.0)\n",
      "5.0\n",
      ">>> x1 = np.arange(9.0).reshape((3, 3))\n",
      ">>> x2 = np.arange(3.0)\n",
      ">>> np.add(x1, x2)\n",
      "array([[  0.,   2.,   4.],\n",
      "       [  3.,   5.,   7.],\n",
      "       [  6.,   8.,  10.]])\n",
      "\n",
      "The ``+`` operator can be used as a shorthand for ``np.add`` on ndarrays.\n",
      "\n",
      ">>> x1 = np.arange(9.0).reshape((3, 3))\n",
      ">>> x2 = np.arange(3.0)\n",
      ">>> x1 + x2\n",
      "array([[ 0.,  2.,  4.],\n",
      "       [ 3.,  5.,  7.],\n",
      "       [ 6.,  8., 10.]])\n"
     ]
    }
   ],
   "source": [
    "# 5. How to get the documentation of the numpy add function from the command line?\n",
    "np.info(np.add)\n",
    "# python -c \"import numpy as np; np.info(np.add)\""
   ]
  },
  {
   "cell_type": "code",
   "execution_count": 10,
   "metadata": {},
   "outputs": [
    {
     "name": "stdout",
     "output_type": "stream",
     "text": [
      "[0. 0. 0. 0. 1. 0. 0. 0. 0. 0.]\n"
     ]
    }
   ],
   "source": [
    "# 6. Create a null vector of size 10 but the fifth value which is 1\n",
    "null_vector_6 = np.zeros(10)\n",
    "null_vector_6[4] = 1\n",
    "print(null_vector_6)"
   ]
  },
  {
   "cell_type": "code",
   "execution_count": 11,
   "metadata": {},
   "outputs": [
    {
     "name": "stdout",
     "output_type": "stream",
     "text": [
      "[10 11 12 13 14 15 16 17 18 19 20 21 22 23 24 25 26 27 28 29 30 31 32 33\n",
      " 34 35 36 37 38 39 40 41 42 43 44 45 46 47 48 49]\n"
     ]
    }
   ],
   "source": [
    "# 7. Create a vector with values ranging from 10 to 49\n",
    "range_vec = np.arange(10, 50)\n",
    "print(range_vec)"
   ]
  },
  {
   "cell_type": "code",
   "execution_count": 12,
   "metadata": {},
   "outputs": [
    {
     "name": "stdout",
     "output_type": "stream",
     "text": [
      "[99 98 97 96 95 94 93 92 91 90 89 88 87 86 85 84 83 82 81 80 79 78 77 76\n",
      " 75 74 73 72 71 70 69 68 67 66 65 64 63 62 61 60 59 58 57 56 55 54 53 52\n",
      " 51 50 49 48 47 46 45 44 43 42 41 40 39 38 37 36 35 34 33 32 31 30 29 28\n",
      " 27 26 25 24 23 22 21 20 19 18 17 16 15 14 13 12 11 10]\n"
     ]
    }
   ],
   "source": [
    "# 8. Reverse a vector (first element becomes last)\n",
    "a = np.arange(10, 100)\n",
    "a = a[::-1]\n",
    "print(a)"
   ]
  },
  {
   "cell_type": "code",
   "execution_count": 13,
   "metadata": {},
   "outputs": [
    {
     "name": "stdout",
     "output_type": "stream",
     "text": [
      "[[0 1 2]\n",
      " [3 4 5]\n",
      " [6 7 8]]\n"
     ]
    }
   ],
   "source": [
    "#9. Create a 3x3 matrix with values ranging from 0 to 8\n",
    "arr = np.arange(9).reshape((3, 3))\n",
    "print(arr)"
   ]
  },
  {
   "cell_type": "code",
   "execution_count": 14,
   "metadata": {},
   "outputs": [
    {
     "name": "stdout",
     "output_type": "stream",
     "text": [
      "(array([0, 1, 4]),)\n"
     ]
    }
   ],
   "source": [
    "# 10. Find indices of non-zero elements from [1,2,0,0,4,0]\n",
    "arr = np.array([1,2,0,0,4,0])\n",
    "print(np.nonzero(arr))"
   ]
  },
  {
   "cell_type": "code",
   "execution_count": 15,
   "metadata": {},
   "outputs": [
    {
     "name": "stdout",
     "output_type": "stream",
     "text": [
      "[[1. 0. 0.]\n",
      " [0. 1. 0.]\n",
      " [0. 0. 1.]]\n"
     ]
    }
   ],
   "source": [
    "# 11. Create a 3x3 identity matrix\n",
    "arr = np.eye(3)\n",
    "print(arr)"
   ]
  },
  {
   "cell_type": "code",
   "execution_count": 20,
   "metadata": {},
   "outputs": [
    {
     "name": "stdout",
     "output_type": "stream",
     "text": [
      "[[[0.26882909 0.74140308 0.17637236]\n",
      "  [0.66061735 0.3668501  0.05010405]\n",
      "  [0.83436571 0.88122311 0.54040464]]\n",
      "\n",
      " [[0.60587844 0.20418153 0.4368601 ]\n",
      "  [0.44671522 0.47999672 0.30456717]\n",
      "  [0.87609329 0.96674844 0.49683662]]\n",
      "\n",
      " [[0.48738251 0.91800752 0.68217614]\n",
      "  [0.28708269 0.66500418 0.40898787]\n",
      "  [0.02855381 0.10707087 0.78060698]]]\n",
      "[[[3 2 4]\n",
      "  [2 2 4]\n",
      "  [3 4 3]]\n",
      "\n",
      " [[2 4 4]\n",
      "  [4 3 2]\n",
      "  [4 3 3]]\n",
      "\n",
      " [[4 3 3]\n",
      "  [4 2 2]\n",
      "  [2 2 2]]]\n"
     ]
    }
   ],
   "source": [
    "#  12. Create a 3x3x3 array with random values\n",
    "print(np.random.random((3, 3, 3)))\n",
    "\n",
    "# just integers\n",
    "print(np.random.randint(2, 5, size =(3, 3, 3)))"
   ]
  },
  {
   "cell_type": "code",
   "execution_count": 21,
   "metadata": {},
   "outputs": [
    {
     "name": "stdout",
     "output_type": "stream",
     "text": [
      "[[0.60648264 0.65238036 0.79956347 0.78557284 0.47889284 0.04962966\n",
      "  0.40090365 0.91233952 0.71544973 0.78600914]\n",
      " [0.14118603 0.204657   0.32070651 0.30272718 0.120117   0.02861965\n",
      "  0.08134925 0.48966741 0.24508087 0.2311853 ]\n",
      " [0.21919432 0.47633207 0.51534691 0.50604047 0.18828274 0.39454003\n",
      "  0.93986079 0.44940339 0.88480293 0.02983234]\n",
      " [0.54178607 0.94861992 0.81588072 0.30705768 0.05743497 0.08967748\n",
      "  0.90029198 0.87718087 0.98232058 0.99100476]\n",
      " [0.34307342 0.2548738  0.75885063 0.20609695 0.21399546 0.99033032\n",
      "  0.89687694 0.72842515 0.04214395 0.41945911]\n",
      " [0.4749888  0.852819   0.86843742 0.82499029 0.70400464 0.52905636\n",
      "  0.03626303 0.44282021 0.85958222 0.33882101]\n",
      " [0.50357866 0.88862403 0.02510745 0.12045342 0.64271295 0.11181911\n",
      "  0.81514271 0.93650762 0.57175519 0.1110172 ]\n",
      " [0.33445816 0.14168816 0.07143596 0.07098819 0.43920741 0.00736205\n",
      "  0.77383038 0.05957498 0.9710478  0.057581  ]\n",
      " [0.13056405 0.22734592 0.69324297 0.4609302  0.13457056 0.15063373\n",
      "  0.66478199 0.24527754 0.83988642 0.66069324]\n",
      " [0.75495084 0.24408462 0.43062099 0.01138786 0.03339594 0.04162043\n",
      "  0.05927832 0.14588741 0.02802717 0.22144487]]\n",
      "max = 0.9910047604140777, min = 0.007362051851545037\n"
     ]
    }
   ],
   "source": [
    "# 13. Create a 10x10 array with random values and find the minimum and maximum values\n",
    "arr = np.random.random(size=(10,10))\n",
    "print(arr)\n",
    "print(f\"max = {np.max(arr)}, min = {np.min(arr)}\")"
   ]
  },
  {
   "cell_type": "code",
   "execution_count": 26,
   "metadata": {},
   "outputs": [
    {
     "data": {
      "text/plain": [
       "0.5138643001871644"
      ]
     },
     "execution_count": 26,
     "metadata": {},
     "output_type": "execute_result"
    }
   ],
   "source": [
    "# 14. Create a random vector of size 30 and find the mean value\n",
    "arr = np.random.random(30)\n",
    "np.mean(arr)"
   ]
  },
  {
   "cell_type": "code",
   "execution_count": 28,
   "metadata": {},
   "outputs": [
    {
     "data": {
      "text/plain": [
       "array([[1., 1., 1., 1., 1., 1.],\n",
       "       [1., 0., 0., 0., 0., 1.],\n",
       "       [1., 0., 0., 0., 0., 1.],\n",
       "       [1., 0., 0., 0., 0., 1.],\n",
       "       [1., 0., 0., 0., 0., 1.],\n",
       "       [1., 1., 1., 1., 1., 1.]])"
      ]
     },
     "execution_count": 28,
     "metadata": {},
     "output_type": "execute_result"
    }
   ],
   "source": [
    "# 15. Create a 2d array with 1 on the border and 0 inside\n",
    "arr = np.zeros((4, 4))\n",
    "arr = np.pad(arr, pad_width=1, mode=\"constant\", constant_values=1)\n",
    "arr"
   ]
  },
  {
   "cell_type": "code",
   "execution_count": 29,
   "metadata": {},
   "outputs": [
    {
     "name": "stdout",
     "output_type": "stream",
     "text": [
      "[[1. 1. 1. 1. 1.]\n",
      " [1. 0. 0. 0. 1.]\n",
      " [1. 0. 0. 0. 1.]\n",
      " [1. 0. 0. 0. 1.]\n",
      " [1. 1. 1. 1. 1.]]\n"
     ]
    }
   ],
   "source": [
    "# 15. Create a 2d array with 1 on the border and 0 inside (another way)\n",
    "arr = np.ones((5, 5))\n",
    "arr[1:-1, 1:-1] = 0\n",
    "print(arr)"
   ]
  },
  {
   "cell_type": "code",
   "execution_count": 30,
   "metadata": {},
   "outputs": [
    {
     "name": "stdout",
     "output_type": "stream",
     "text": [
      "[[0. 0. 0. 0. 0. 0.]\n",
      " [0. 1. 1. 1. 1. 0.]\n",
      " [0. 1. 1. 1. 1. 0.]\n",
      " [0. 1. 1. 1. 1. 0.]\n",
      " [0. 1. 1. 1. 1. 0.]\n",
      " [0. 0. 0. 0. 0. 0.]]\n"
     ]
    }
   ],
   "source": [
    "# 16. How to add a border (filled with 0's) around an existing array?\n",
    "arr = np.ones((4, 4))\n",
    "arr = np.pad(arr, pad_width=1, constant_values=0.0, mode=\"constant\")\n",
    "print(arr)"
   ]
  },
  {
   "cell_type": "code",
   "execution_count": 35,
   "metadata": {},
   "outputs": [
    {
     "name": "stdout",
     "output_type": "stream",
     "text": [
      "nan\n",
      "False\n",
      "False\n",
      "nan\n",
      "True\n",
      "False\n",
      "4485513712\n",
      "4485513712\n",
      "True False\n"
     ]
    }
   ],
   "source": [
    "# 17. What is the result of the following expression?\n",
    "print(0 * np.nan)\n",
    "print(np.nan == np.nan)\n",
    "print(np.inf > np.nan)\n",
    "print(np.nan - np.nan)\n",
    "print(np.nan in set([np.nan]))\n",
    "print(0.3 == 3 * 0.1)\n",
    "a = np.nan\n",
    "print(id(a))\n",
    "print(id(np.nan))\n",
    "# NaN is an object, but designed to evaulate to be false when compared to itself\n",
    "print(a in [np.nan], a == np.nan)"
   ]
  },
  {
   "cell_type": "code",
   "execution_count": 38,
   "metadata": {},
   "outputs": [
    {
     "data": {
      "text/plain": [
       "array([[0, 0, 0, 0, 0],\n",
       "       [1, 0, 0, 0, 0],\n",
       "       [0, 2, 0, 0, 0],\n",
       "       [0, 0, 3, 0, 0],\n",
       "       [0, 0, 0, 4, 0]])"
      ]
     },
     "execution_count": 38,
     "metadata": {},
     "output_type": "execute_result"
    }
   ],
   "source": [
    "# 18. Create a 5x5 matrix with values 1,2,3,4 just below the diagonal (★☆☆)\n",
    "\"\"\"\n",
    "If v is a 2-D array,\n",
    "return a copy of its k-th diagonal.\n",
    "If v is a 1-D array, return a 2-D array with v on the k-th diagonal.\n",
    "\"\"\"\n",
    "arr = np.diag(1 + np.arange(4), k = -1)\n",
    "arr\n"
   ]
  },
  {
   "cell_type": "code",
   "execution_count": 42,
   "metadata": {},
   "outputs": [
    {
     "name": "stdout",
     "output_type": "stream",
     "text": [
      "[[0 0 0 0 0 0 0 0]\n",
      " [0 0 0 0 0 0 0 0]\n",
      " [0 0 0 0 0 0 0 0]\n",
      " [0 0 0 0 0 0 0 0]\n",
      " [0 0 0 0 0 0 0 0]\n",
      " [0 0 0 0 0 0 0 0]\n",
      " [0 0 0 0 0 0 0 0]\n",
      " [0 0 0 0 0 0 0 0]]\n",
      "[[0 0 0 0 0 0 0 0]\n",
      " [1 0 1 0 1 0 1 0]\n",
      " [0 0 0 0 0 0 0 0]\n",
      " [1 0 1 0 1 0 1 0]\n",
      " [0 0 0 0 0 0 0 0]\n",
      " [1 0 1 0 1 0 1 0]\n",
      " [0 0 0 0 0 0 0 0]\n",
      " [1 0 1 0 1 0 1 0]]\n",
      "[[0 1 0 1 0 1 0 1]\n",
      " [1 0 1 0 1 0 1 0]\n",
      " [0 1 0 1 0 1 0 1]\n",
      " [1 0 1 0 1 0 1 0]\n",
      " [0 1 0 1 0 1 0 1]\n",
      " [1 0 1 0 1 0 1 0]\n",
      " [0 1 0 1 0 1 0 1]\n",
      " [1 0 1 0 1 0 1 0]]\n"
     ]
    }
   ],
   "source": [
    "# 19. Create a 8x8 matrix and fill it with a checkerboard pattern (★☆☆)\n",
    "arr = np.zeros((8, 8), dtype=int)\n",
    "print(arr)\n",
    "arr[1::2, ::2] = 1\n",
    "print(arr)\n",
    "arr[::2, 1::2] = 1\n",
    "print(arr)\n"
   ]
  },
  {
   "cell_type": "code",
   "execution_count": 51,
   "metadata": {},
   "outputs": [
    {
     "name": "stdout",
     "output_type": "stream",
     "text": [
      "(1, 5, 3)\n",
      "(1, 5, 3)\n"
     ]
    }
   ],
   "source": [
    "# 20. Consider a (6,7,8) shape array, what is the index (x,y,z) of the 100th element? (★☆☆)\n",
    "shape = (6, 7, 8)\n",
    "nth_elem = 99\n",
    "z = nth_elem // (shape[1] * shape[2])\n",
    "remainder = nth_elem % (shape[1] * shape[2])\n",
    "r = remainder // shape[2]\n",
    "c = remainder % shape[2]\n",
    "print((z, r, c))\n",
    "\n",
    "# use numpy\n",
    "print(np.unravel_index(99, shape=shape))"
   ]
  },
  {
   "cell_type": "code",
   "execution_count": 49,
   "metadata": {},
   "outputs": [
    {
     "name": "stdout",
     "output_type": "stream",
     "text": [
      "(0, 0, 0)\n",
      "(0, 0, 1)\n",
      "(0, 0, 2)\n",
      "(0, 0, 3)\n",
      "(0, 0, 4)\n",
      "(0, 0, 5)\n",
      "(0, 0, 6)\n",
      "(0, 0, 7)\n",
      "(0, 1, 0)\n",
      "(0, 1, 1)\n",
      "(0, 1, 2)\n",
      "(0, 1, 3)\n",
      "(0, 1, 4)\n",
      "(0, 1, 5)\n",
      "(0, 1, 6)\n",
      "(0, 1, 7)\n",
      "(0, 2, 0)\n",
      "(0, 2, 1)\n",
      "(0, 2, 2)\n",
      "(0, 2, 3)\n",
      "(0, 2, 4)\n",
      "(0, 2, 5)\n",
      "(0, 2, 6)\n",
      "(0, 2, 7)\n",
      "(0, 3, 0)\n",
      "(0, 3, 1)\n",
      "(0, 3, 2)\n",
      "(0, 3, 3)\n",
      "(0, 3, 4)\n",
      "(0, 3, 5)\n",
      "(0, 3, 6)\n",
      "(0, 3, 7)\n",
      "(0, 4, 0)\n",
      "(0, 4, 1)\n",
      "(0, 4, 2)\n",
      "(0, 4, 3)\n",
      "(0, 4, 4)\n",
      "(0, 4, 5)\n",
      "(0, 4, 6)\n",
      "(0, 4, 7)\n",
      "(0, 5, 0)\n",
      "(0, 5, 1)\n",
      "(0, 5, 2)\n",
      "(0, 5, 3)\n",
      "(0, 5, 4)\n",
      "(0, 5, 5)\n",
      "(0, 5, 6)\n",
      "(0, 5, 7)\n",
      "(0, 6, 0)\n",
      "(0, 6, 1)\n",
      "(0, 6, 2)\n",
      "(0, 6, 3)\n",
      "(0, 6, 4)\n",
      "(0, 6, 5)\n",
      "(0, 6, 6)\n",
      "(0, 6, 7)\n",
      "(1, 0, 0)\n",
      "(1, 0, 1)\n",
      "(1, 0, 2)\n",
      "(1, 0, 3)\n",
      "(1, 0, 4)\n",
      "(1, 0, 5)\n",
      "(1, 0, 6)\n",
      "(1, 0, 7)\n",
      "(1, 1, 0)\n",
      "(1, 1, 1)\n",
      "(1, 1, 2)\n",
      "(1, 1, 3)\n",
      "(1, 1, 4)\n",
      "(1, 1, 5)\n",
      "(1, 1, 6)\n",
      "(1, 1, 7)\n",
      "(1, 2, 0)\n",
      "(1, 2, 1)\n",
      "(1, 2, 2)\n",
      "(1, 2, 3)\n",
      "(1, 2, 4)\n",
      "(1, 2, 5)\n",
      "(1, 2, 6)\n",
      "(1, 2, 7)\n",
      "(1, 3, 0)\n",
      "(1, 3, 1)\n",
      "(1, 3, 2)\n",
      "(1, 3, 3)\n",
      "(1, 3, 4)\n",
      "(1, 3, 5)\n",
      "(1, 3, 6)\n",
      "(1, 3, 7)\n",
      "(1, 4, 0)\n",
      "(1, 4, 1)\n",
      "(1, 4, 2)\n",
      "(1, 4, 3)\n",
      "(1, 4, 4)\n",
      "(1, 4, 5)\n",
      "(1, 4, 6)\n",
      "(1, 4, 7)\n",
      "(1, 5, 0)\n",
      "(1, 5, 1)\n",
      "(1, 5, 2)\n",
      "(1, 5, 3)\n"
     ]
    }
   ],
   "source": [
    "for i in range(100):\n",
    "    print(np.unravel_index(i, shape=shape))    "
   ]
  },
  {
   "cell_type": "code",
   "execution_count": 54,
   "metadata": {},
   "outputs": [
    {
     "data": {
      "text/plain": [
       "array([[0, 1, 0, 1, 0, 1, 0, 1],\n",
       "       [1, 0, 1, 0, 1, 0, 1, 0],\n",
       "       [0, 1, 0, 1, 0, 1, 0, 1],\n",
       "       [1, 0, 1, 0, 1, 0, 1, 0],\n",
       "       [0, 1, 0, 1, 0, 1, 0, 1],\n",
       "       [1, 0, 1, 0, 1, 0, 1, 0],\n",
       "       [0, 1, 0, 1, 0, 1, 0, 1],\n",
       "       [1, 0, 1, 0, 1, 0, 1, 0]])"
      ]
     },
     "execution_count": 54,
     "metadata": {},
     "output_type": "execute_result"
    }
   ],
   "source": [
    "# 21. Create a checkerboard 8x8 matrix using the tile function (★☆☆)\n",
    "arr = np.array([[0, 1], [1, 0]])\n",
    "arr = np.tile(arr, (4, 4))\n",
    "arr"
   ]
  },
  {
   "cell_type": "code",
   "execution_count": 59,
   "metadata": {},
   "outputs": [
    {
     "name": "stdout",
     "output_type": "stream",
     "text": [
      "[[3 4 3 2 4]\n",
      " [2 2 2 3 4]\n",
      " [4 3 4 3 3]\n",
      " [4 4 3 4 4]\n",
      " [2 2 4 4 4]]\n",
      "81\n",
      "16.703293088490067\n",
      "[[0.1796053  0.23947374 0.1796053  0.11973687 0.23947374]\n",
      " [0.11973687 0.11973687 0.11973687 0.1796053  0.23947374]\n",
      " [0.23947374 0.1796053  0.23947374 0.1796053  0.1796053 ]\n",
      " [0.23947374 0.23947374 0.1796053  0.23947374 0.23947374]\n",
      " [0.11973687 0.11973687 0.23947374 0.23947374 0.23947374]]\n",
      "[[-0.29488391  0.93379906 -0.29488391 -1.52356688  0.93379906]\n",
      " [-1.52356688 -1.52356688 -1.52356688 -0.29488391  0.93379906]\n",
      " [ 0.93379906 -0.29488391  0.93379906 -0.29488391 -0.29488391]\n",
      " [ 0.93379906  0.93379906 -0.29488391  0.93379906  0.93379906]\n",
      " [-1.52356688 -1.52356688  0.93379906  0.93379906  0.93379906]]\n"
     ]
    }
   ],
   "source": [
    "# 22. Normalize a 5x5 random matrix (★☆☆)\n",
    "arr = np.random.randint(low=2, high=5, size=(5,5))\n",
    "print(arr)\n",
    "print(np.sum(arr))\n",
    "arr_norm = np.linalg.norm(arr)\n",
    "print(arr_norm)\n",
    "print(arr/arr_norm)\n",
    "arr_proper_norm = (arr - np.mean(arr))/np.std(arr)\n",
    "print(arr_proper_norm)"
   ]
  },
  {
   "cell_type": "code",
   "execution_count": 60,
   "metadata": {},
   "outputs": [],
   "source": [
    "# 23. Create a custom dtype that describes a color as four unsigned bytes (RGBA) (★☆☆)\n",
    "colour = np.dtype(\n",
    "    {\"names\": [\"r\", \"g\", \"b\", \"a\"], \"formats\": [np.ubyte, np.ubyte, np.ubyte, np.ubyte]}\n",
    ")\n",
    "color = np.dtype([(\"r\", np.ubyte), (\"g\", np.ubyte), (\"b\", np.ubyte), (\"a\", np.ubyte)])\n"
   ]
  },
  {
   "cell_type": "code",
   "execution_count": 63,
   "metadata": {},
   "outputs": [
    {
     "data": {
      "text/plain": [
       "(5, 2)"
      ]
     },
     "execution_count": 63,
     "metadata": {},
     "output_type": "execute_result"
    }
   ],
   "source": [
    "# 24. Multiply a 5x3 matrix by a 3x2 matrix (real matrix product) (★☆☆)\n",
    "arr1 = np.random.random((5, 3))\n",
    "arr2 = np.random.random((3, 2))\n",
    "arr3 = arr1 @ arr2\n",
    "arr3.shape"
   ]
  },
  {
   "cell_type": "code",
   "execution_count": 68,
   "metadata": {},
   "outputs": [
    {
     "data": {
      "text/plain": [
       "array([ 0,  1,  2, -3, -4, -5, -6, -7, -8,  9, 10])"
      ]
     },
     "execution_count": 68,
     "metadata": {},
     "output_type": "execute_result"
    }
   ],
   "source": [
    "# 25. Given a 1D array, negate all elements which are between 3 and 8, in place. (★☆☆)\n",
    "arr = np.arange(11)\n",
    "arr[(3 <= arr) & (8 >= arr)] *= -1\n",
    "arr"
   ]
  },
  {
   "cell_type": "code",
   "execution_count": 75,
   "metadata": {},
   "outputs": [
    {
     "name": "stdout",
     "output_type": "stream",
     "text": [
      "9\n",
      "60\n",
      "59\n",
      "10\n"
     ]
    }
   ],
   "source": [
    "# 26. What is the output of the following script? (★☆☆)\n",
    "\n",
    "# the start in python's sum method \"adds\" start to the sum of the iterable\n",
    "print(sum(range(5), -1))\n",
    "print(sum(range(10, 15)))\n",
    "print(sum(range(10, 15), -1))\n",
    "\n",
    "# numpy has different function methods\n",
    "print(np.sum(range(5), -1))\n"
   ]
  },
  {
   "cell_type": "code",
   "execution_count": 87,
   "metadata": {},
   "outputs": [
    {
     "name": "stdout",
     "output_type": "stream",
     "text": [
      "[  1   4  27 256]\n",
      "[1 2 4 8]\n",
      "[ 4  8 16 32]\n",
      "[False False False False]\n",
      "[0.+1.j 0.+2.j 0.+3.j 0.+4.j]\n",
      "[1. 2. 3. 4.]\n"
     ]
    }
   ],
   "source": [
    "# 27. Consider an integer vector Z, which of these expressions are legal? (★☆☆)\n",
    "Z = np.array([1, 2, 3, 4], dtype=int)\n",
    "print(Z ** Z)\n",
    "\n",
    "print(2 << Z >> 2) # same as (2 << Z) >> 2\n",
    "print(2<<Z)\n",
    "\n",
    "print(Z <- Z) # this is Z < -Z\n",
    "print(1j*Z)\n",
    "print(Z/1/1)\n",
    "\n",
    "# print(Z<Z>Z) # won't work\n",
    "\n"
   ]
  },
  {
   "cell_type": "code",
   "execution_count": 92,
   "metadata": {},
   "outputs": [
    {
     "name": "stdout",
     "output_type": "stream",
     "text": [
      "nan\n",
      "0\n",
      "[-9.22337204e+18]\n"
     ]
    },
    {
     "name": "stderr",
     "output_type": "stream",
     "text": [
      "/var/folders/c8/sn44bk457kbd9l99l1_b8br80000gn/T/ipykernel_60834/3617338704.py:2: RuntimeWarning: invalid value encountered in divide\n",
      "  print(np.array(0) / np.array(0))\n",
      "/var/folders/c8/sn44bk457kbd9l99l1_b8br80000gn/T/ipykernel_60834/3617338704.py:3: RuntimeWarning: divide by zero encountered in floor_divide\n",
      "  print(np.array(0) // np.array(0))\n"
     ]
    }
   ],
   "source": [
    "# 28. What are the result of the following expressions? (★☆☆)\n",
    "print(np.array(0) / np.array(0))\n",
    "print(np.array(0) // np.array(0))\n",
    "print(np.array([np.nan]).astype(int).astype(float))\n"
   ]
  },
  {
   "cell_type": "code",
   "execution_count": 101,
   "metadata": {},
   "outputs": [
    {
     "name": "stdout",
     "output_type": "stream",
     "text": [
      "[-21, -22, -23, -24, 11, 12, 13, 14]\n",
      "[-21. -22. -23. -24.  11.  12.  13.  14.]\n",
      "[-21. -22. -23. -24.  11.  12.  13.  14.]\n"
     ]
    }
   ],
   "source": [
    "# 29. How to round away from zero a float array ? (★☆☆)\n",
    "\"\"\"\n",
    "Round-away-from-zero: The counterpart to round-toward-zero,\n",
    "this refers to rounding in such a way that the result heads\n",
    "away from zero.\n",
    "For example, 3.1, 3.2, 3.3, 3.4, 3.5, 3.6, 3.7, 3.8, and\n",
    "3.9 will all be rounded to 4. Similarly, -3.1, -3.2, -3.3,\n",
    "-3.4, -3.5, -3.6, -3.7, -3.8, and -3.9 will all be rounded to -4.\n",
    "\"\"\"\n",
    "import math\n",
    "\n",
    "\n",
    "def round_away_from_zero(x: float):\n",
    "    a = abs(x)\n",
    "    r = math.floor(a) + math.floor(2 * (a % 1))\n",
    "    return r if x >= 0 else -r\n",
    "\n",
    "\n",
    "arr = np.array([-20.5, -21.5, -22.5, -23.5, 10.5, 11.5, 12.5, 13.5])\n",
    "res = map(round_away_from_zero, arr)\n",
    "print(list(res))\n",
    "\n",
    "# other ways\n",
    "print(np.copysign(np.ceil(np.abs(arr)), arr))  # <- fastest\n",
    "\n",
    "# More readable but less efficient\n",
    "print(np.where(arr > 0, np.ceil(arr), np.floor(arr)))\n"
   ]
  },
  {
   "cell_type": "code",
   "execution_count": 103,
   "metadata": {},
   "outputs": [
    {
     "name": "stdout",
     "output_type": "stream",
     "text": [
      "[3 3 9 1 9 4 6 4 0 3] [6 1 5 8 5 4 6 8 7 8]\n",
      "[1 4 6]\n"
     ]
    }
   ],
   "source": [
    "# 30. How to find common values between two arrays? (★☆☆)\n",
    "arr1 = np.random.randint(0, 10, 10)\n",
    "arr2 = np.random.randint(0, 10, 10)\n",
    "print(arr1, arr2)\n",
    "print(np.intersect1d(arr1, arr2))\n"
   ]
  },
  {
   "cell_type": "code",
   "execution_count": null,
   "metadata": {},
   "outputs": [],
   "source": [
    "# 31. How to ignore all numpy warnings (not recommended)? (★☆☆)\n",
    "\n",
    "# Suicide mode on\n",
    "defaults = np.seterr(all=\"ignore\")\n",
    "Z = np.ones(1) / 0\n",
    "\n",
    "# Back to sanity\n",
    "_ = np.seterr(**defaults)\n",
    "\n",
    "# Equivalently with a context manager\n",
    "with np.errstate(all=\"ignore\"):\n",
    "    np.arange(3) / 0"
   ]
  },
  {
   "cell_type": "code",
   "execution_count": 105,
   "metadata": {},
   "outputs": [
    {
     "name": "stdout",
     "output_type": "stream",
     "text": [
      "1j\n",
      "nan\n",
      "False\n"
     ]
    },
    {
     "name": "stderr",
     "output_type": "stream",
     "text": [
      "/var/folders/c8/sn44bk457kbd9l99l1_b8br80000gn/T/ipykernel_60834/3918572386.py:3: RuntimeWarning: invalid value encountered in sqrt\n",
      "  B = np.sqrt(-1)\n"
     ]
    }
   ],
   "source": [
    "# 32. Is the following expressions true? (★☆☆)\n",
    "A = np.emath.sqrt(-1)\n",
    "B = np.sqrt(-1)\n",
    "print(A)\n",
    "print(B)\n",
    "print(A==B)\n",
    "\n"
   ]
  },
  {
   "cell_type": "code",
   "execution_count": 106,
   "metadata": {},
   "outputs": [],
   "source": [
    "# 33. How to get the dates of yesterday, today and tomorrow? (★☆☆)\n",
    "today = np.datetime64(\"today\", \"D\")\n",
    "yesterday = today - np.timedelta64(1, \"D\")\n",
    "tomorrow = today + np.timedelta64(1, \"D\")"
   ]
  },
  {
   "cell_type": "code",
   "execution_count": 108,
   "metadata": {},
   "outputs": [
    {
     "name": "stdout",
     "output_type": "stream",
     "text": [
      "['2016-07-01' '2016-07-02' '2016-07-03' '2016-07-04' '2016-07-05'\n",
      " '2016-07-06' '2016-07-07' '2016-07-08' '2016-07-09' '2016-07-10'\n",
      " '2016-07-11' '2016-07-12' '2016-07-13' '2016-07-14' '2016-07-15'\n",
      " '2016-07-16' '2016-07-17' '2016-07-18' '2016-07-19' '2016-07-20'\n",
      " '2016-07-21' '2016-07-22' '2016-07-23' '2016-07-24' '2016-07-25'\n",
      " '2016-07-26' '2016-07-27' '2016-07-28' '2016-07-29' '2016-07-30'\n",
      " '2016-07-31'] (31,)\n"
     ]
    }
   ],
   "source": [
    "# 34. How to get all the dates corresponding to the month of July 2016? (★★☆)\n",
    "Z = np.arange('2016-07', '2016-08', dtype='datetime64[D]')\n",
    "print(Z, Z.shape)"
   ]
  },
  {
   "cell_type": "code",
   "execution_count": 112,
   "metadata": {},
   "outputs": [
    {
     "data": {
      "text/plain": [
       "array([-1.5, -1.5, -1.5])"
      ]
     },
     "execution_count": 112,
     "metadata": {},
     "output_type": "execute_result"
    }
   ],
   "source": [
    "# 35. How to compute ((A+B)*(-A/2)) in place (without copy)? (★★☆)\n",
    "A = np.ones(3)*1\n",
    "B = np.ones(3)*2\n",
    "np.add(A, B, out=B)\n",
    "np.divide(A, 2, out=A)\n",
    "np.negative(A, out=A)\n",
    "np.multiply(A, B, out=A)\n",
    "A"
   ]
  },
  {
   "cell_type": "code",
   "execution_count": 118,
   "metadata": {},
   "outputs": [
    {
     "name": "stdout",
     "output_type": "stream",
     "text": [
      "[[9.89459204e+00 5.86116543e+00 7.53602454e+00 5.46872778e+00\n",
      "  1.05175552e+00]\n",
      " [4.95359210e-01 7.25604274e+00 6.76727396e+00 9.97227284e+00\n",
      "  7.14863681e+00]\n",
      " [7.73172637e+00 4.16181702e+00 2.11931510e+00 5.73067055e+00\n",
      "  2.79688831e+00]\n",
      " [7.56917123e+00 6.36803982e+00 9.33377502e+00 5.73422221e-03\n",
      "  3.79733971e+00]\n",
      " [1.41213314e+00 7.84169610e+00 2.10861766e+00 3.69551476e+00\n",
      "  1.86898228e+00]]\n",
      "[[9. 5. 7. 5. 1.]\n",
      " [0. 7. 6. 9. 7.]\n",
      " [7. 4. 2. 5. 2.]\n",
      " [7. 6. 9. 0. 3.]\n",
      " [1. 7. 2. 3. 1.]]\n",
      "[[9. 5. 7. 5. 1.]\n",
      " [0. 7. 6. 9. 7.]\n",
      " [7. 4. 2. 5. 2.]\n",
      " [7. 6. 9. 0. 3.]\n",
      " [1. 7. 2. 3. 1.]]\n",
      "[[9 5 7 5 1]\n",
      " [0 7 6 9 7]\n",
      " [7 4 2 5 2]\n",
      " [7 6 9 0 3]\n",
      " [1 7 2 3 1]]\n",
      "[[9. 5. 7. 5. 1.]\n",
      " [0. 7. 6. 9. 7.]\n",
      " [7. 4. 2. 5. 2.]\n",
      " [7. 6. 9. 0. 3.]\n",
      " [1. 7. 2. 3. 1.]]\n"
     ]
    }
   ],
   "source": [
    "# 36. Extract the integer part of a random array of positive numbers using 4 different methods (★★☆)\n",
    "arr = np.random.uniform(low=0, high=10, size=(5, 5))\n",
    "print(arr)\n",
    "\n",
    "print(arr - arr % 1)  # 1\n",
    "print(arr//1)  # 2\n",
    "print(arr.astype(int))  # 3\n",
    "print(np.trunc(arr))  # 4\n"
   ]
  },
  {
   "cell_type": "code",
   "execution_count": 119,
   "metadata": {},
   "outputs": [
    {
     "name": "stdout",
     "output_type": "stream",
     "text": [
      "[[0. 1. 2. 3. 4.]\n",
      " [0. 1. 2. 3. 4.]\n",
      " [0. 1. 2. 3. 4.]\n",
      " [0. 1. 2. 3. 4.]\n",
      " [0. 1. 2. 3. 4.]]\n"
     ]
    }
   ],
   "source": [
    "# 37. Create a 5x5 matrix with row values ranging from 0 to 4 (★★☆)\n",
    "arr = np.zeros(shape=(5, 5))\n",
    "arr += np.arange(5)\n",
    "print(arr)"
   ]
  },
  {
   "cell_type": "code",
   "execution_count": 121,
   "metadata": {},
   "outputs": [
    {
     "data": {
      "text/plain": [
       "array([20., 21., 14., 11.,  9., 22., 20.,  8., 10., 13.])"
      ]
     },
     "execution_count": 121,
     "metadata": {},
     "output_type": "execute_result"
    }
   ],
   "source": [
    "# 38. Consider a generator function that generates 10 integers and use it to build an array (★☆☆)\n",
    "import random\n",
    "\n",
    "def generate_10():\n",
    "    for _ in range(10):\n",
    "        yield random.randint(6, 26)\n",
    "arr = np.fromiter(generate_10(), dtype=float)\n",
    "arr\n"
   ]
  },
  {
   "cell_type": "code",
   "execution_count": 123,
   "metadata": {},
   "outputs": [
    {
     "data": {
      "text/plain": [
       "array([0.09090909, 0.18181818, 0.27272727, 0.36363636, 0.45454545,\n",
       "       0.54545455, 0.63636364, 0.72727273, 0.81818182, 0.90909091])"
      ]
     },
     "execution_count": 123,
     "metadata": {},
     "output_type": "execute_result"
    }
   ],
   "source": [
    "# 39. Create a vector of size 10 with values ranging from 0 to 1, both excluded (★★☆)\n",
    "arr = np.linspace(start=0, stop=1, endpoint=False, num=11)[1:]\n",
    "arr"
   ]
  },
  {
   "cell_type": "code",
   "execution_count": 133,
   "metadata": {},
   "outputs": [
    {
     "name": "stdout",
     "output_type": "stream",
     "text": [
      "[0.20728817 0.66400274 0.70256188 0.38423053 0.28478448 0.39913473\n",
      " 0.22124849 0.43515845 0.81754214 0.18842361]\n",
      "[0.18842361 0.20728817 0.22124849 0.28478448 0.38423053 0.39913473\n",
      " 0.43515845 0.66400274 0.70256188 0.81754214]\n"
     ]
    }
   ],
   "source": [
    "# 40. Create a random vector of size 10 and sort it (★★☆)\n",
    "arr = np.random.random(10)\n",
    "print(arr)\n",
    "arr.sort()\n",
    "print(arr)"
   ]
  },
  {
   "cell_type": "code",
   "execution_count": 132,
   "metadata": {},
   "outputs": [
    {
     "name": "stdout",
     "output_type": "stream",
     "text": [
      "Total time = 394,105.91 ns\n",
      "Average time = 3,941.06 ns\n",
      "Total time = 190,019.61 ns\n",
      "Average time = 1,900.20 ns\n"
     ]
    }
   ],
   "source": [
    "# 41. How to sum a small array faster than np.sum? (★★☆)\n",
    "import time\n",
    "def time_func(fn, arr, num_loops=100):\n",
    "    start = time.time()\n",
    "    for _ in range(num_loops):\n",
    "        res = fn(arr)\n",
    "    end = time.time()\n",
    "    tot_time = (end - start) * 10**9\n",
    "    print(f\"Total time = {tot_time:,.2f} ns\")\n",
    "    print(f\"Average time = {tot_time/num_loops:,.2f} ns\")\n",
    "    return res\n",
    "\n",
    "arr = np.arange(10)\n",
    "\n",
    "# under the hood np.sum calls np.add.reduce anyway, so expect the second to be a lot faster\n",
    "res = time_func(np.sum, arr)\n",
    "\n",
    "res = time_func(np.add.reduce, arr)"
   ]
  },
  {
   "cell_type": "code",
   "execution_count": 135,
   "metadata": {},
   "outputs": [
    {
     "name": "stdout",
     "output_type": "stream",
     "text": [
      "[0 0 0 0 1] [0 0 0 1 1]\n",
      "False\n"
     ]
    },
    {
     "data": {
      "text/plain": [
       "False"
      ]
     },
     "execution_count": 135,
     "metadata": {},
     "output_type": "execute_result"
    }
   ],
   "source": [
    "# 42. Consider two random array A and B, check if they are equal (★★☆)\n",
    "\n",
    "A = np.random.randint(0,2,5)\n",
    "B = np.random.randint(0,2,5)\n",
    "print(A, B)\n",
    "print(np.allclose(A, B))\n",
    "\n",
    "# can also use\n",
    "np.array_equal(A,B)"
   ]
  },
  {
   "cell_type": "code",
   "execution_count": 137,
   "metadata": {},
   "outputs": [
    {
     "name": "stdout",
     "output_type": "stream",
     "text": [
      "  C_CONTIGUOUS : True\n",
      "  F_CONTIGUOUS : True\n",
      "  OWNDATA : True\n",
      "  WRITEABLE : True\n",
      "  ALIGNED : True\n",
      "  WRITEBACKIFCOPY : False\n",
      "\n"
     ]
    },
    {
     "ename": "ValueError",
     "evalue": "assignment destination is read-only",
     "output_type": "error",
     "traceback": [
      "\u001b[0;31m---------------------------------------------------------------------------\u001b[0m",
      "\u001b[0;31mValueError\u001b[0m                                Traceback (most recent call last)",
      "Cell \u001b[0;32mIn [137], line 5\u001b[0m\n\u001b[1;32m      3\u001b[0m \u001b[39mprint\u001b[39m(arr\u001b[39m.\u001b[39mflags)\n\u001b[1;32m      4\u001b[0m arr\u001b[39m.\u001b[39mflags\u001b[39m.\u001b[39mwriteable \u001b[39m=\u001b[39m \u001b[39mFalse\u001b[39;00m\n\u001b[0;32m----> 5\u001b[0m arr[\u001b[39m0\u001b[39m] \u001b[39m=\u001b[39m \u001b[39m1.\u001b[39m\n",
      "\u001b[0;31mValueError\u001b[0m: assignment destination is read-only"
     ]
    }
   ],
   "source": [
    "# 43. Make an array immutable (read-only) (★★☆)\n",
    "arr = np.zeros(10)\n",
    "print(arr.flags)\n",
    "arr.flags.writeable = False\n",
    "arr[0] = 1."
   ]
  },
  {
   "cell_type": "code",
   "execution_count": 141,
   "metadata": {},
   "outputs": [
    {
     "name": "stdout",
     "output_type": "stream",
     "text": [
      "[0.96129313 0.57153344 0.55457939 1.11148746 1.22060572 0.47813712\n",
      " 0.60888502 0.29389516 1.18829051 0.50263426] [1.32119606 0.36494473 0.31845214 0.83199437 0.69863727 0.68569783\n",
      " 0.37172682 1.1524542  0.71966748 0.93631834]\n"
     ]
    }
   ],
   "source": [
    "# 44. Consider a random 10x2 matrix representing cartesian coordinates, convert them to polar coordinates (★★☆)\n",
    "import typing as ty\n",
    "def convert_to_polar(X: np.array, Y: np.array) -> ty.Tuple[np.array, np.array]:\n",
    "    R = np.sqrt(X**2 + Y**2)\n",
    "    T = np.arctan2(Y, X)\n",
    "    return R, T\n",
    "arr = np.random.random((10, 2))\n",
    "X, Y = arr[:, 0], arr[:, 1]\n",
    "R, T = convert_to_polar(X, Y)\n",
    "print(R, T)\n"
   ]
  },
  {
   "cell_type": "code",
   "execution_count": 142,
   "metadata": {},
   "outputs": [
    {
     "name": "stdout",
     "output_type": "stream",
     "text": [
      "[0.82919634 0.97101224 0.99714409 0.88536602 0.36322915 0.82984091\n",
      " 0.34005486 0.89945649 0.33695583 0.17932446]\n",
      "2\n",
      "[0.82919634 0.97101224 0.         0.88536602 0.36322915 0.82984091\n",
      " 0.34005486 0.89945649 0.33695583 0.17932446]\n"
     ]
    }
   ],
   "source": [
    "# 45. Create random vector of size 10 and replace the maximum value by 0 (★★☆)\n",
    "arr = np.random.random(10)\n",
    "print(arr)\n",
    "print(arr.argmax())\n",
    "arr[arr.argmax()] = 0.\n",
    "print(arr)"
   ]
  },
  {
   "cell_type": "code",
   "execution_count": 3,
   "metadata": {},
   "outputs": [
    {
     "name": "stdout",
     "output_type": "stream",
     "text": [
      "[[(0., 0.) (0., 0.) (0., 0.) (0., 0.) (0., 0.)]\n",
      " [(0., 0.) (0., 0.) (0., 0.) (0., 0.) (0., 0.)]\n",
      " [(0., 0.) (0., 0.) (0., 0.) (0., 0.) (0., 0.)]\n",
      " [(0., 0.) (0., 0.) (0., 0.) (0., 0.) (0., 0.)]\n",
      " [(0., 0.) (0., 0.) (0., 0.) (0., 0.) (0., 0.)]]\n",
      "[[(0.  , 0.  ) (0.25, 0.  ) (0.5 , 0.  ) (0.75, 0.  ) (1.  , 0.  )]\n",
      " [(0.  , 0.25) (0.25, 0.25) (0.5 , 0.25) (0.75, 0.25) (1.  , 0.25)]\n",
      " [(0.  , 0.5 ) (0.25, 0.5 ) (0.5 , 0.5 ) (0.75, 0.5 ) (1.  , 0.5 )]\n",
      " [(0.  , 0.75) (0.25, 0.75) (0.5 , 0.75) (0.75, 0.75) (1.  , 0.75)]\n",
      " [(0.  , 1.  ) (0.25, 1.  ) (0.5 , 1.  ) (0.75, 1.  ) (1.  , 1.  )]]\n"
     ]
    }
   ],
   "source": [
    "# 46. Create a structured array with `x` and `y` coordinates covering the [0,1]x[0,1] area (★★☆)\n",
    "arr = np.zeros((5, 5), dtype=[(\"x\", float), (\"y\", float)])\n",
    "print(arr)\n",
    "arr[\"x\"], arr[\"y\"] = np.meshgrid(np.linspace(0, 1, 5), np.linspace(0, 1, 5))\n",
    "print(arr)"
   ]
  },
  {
   "cell_type": "code",
   "execution_count": 10,
   "metadata": {},
   "outputs": [
    {
     "name": "stdout",
     "output_type": "stream",
     "text": [
      "(13, 6)\n",
      "329.20570614433166\n"
     ]
    }
   ],
   "source": [
    "# 47. Given two arrays, X and Y, construct the Cauchy matrix C (Cij =1/(xi - yj)) (★★☆)\n",
    "X = np.random.random(13)\n",
    "Y = np.random.random(6)\n",
    "C = 1/np.subtract.outer(X,Y)\n",
    "print(C.shape)\n",
    "print(np.linalg.norm(C))\n"
   ]
  },
  {
   "cell_type": "code",
   "execution_count": 135,
   "metadata": {},
   "outputs": [
    {
     "name": "stdout",
     "output_type": "stream",
     "text": [
      "int8, min = -128, max = 127\n",
      "int32, min = -2147483648, max = 2147483647\n",
      "int64, min = -9223372036854775808, max = 9223372036854775807\n",
      "uint8, min = 0, max = 255\n",
      "float16, min = -65504.0, max = 65504.0\n",
      "float32, min = -3.4028234663852886e+38, max = 3.4028234663852886e+38\n",
      "float64, min = -1.7976931348623157e+308, max = 1.7976931348623157e+308\n"
     ]
    }
   ],
   "source": [
    "# 48. Print the minimum and maximum representable value for each numpy scalar type (★★☆)\n",
    "for _dtype in [np.int8, np.int32, np.int64, np.ubyte]:\n",
    "    print(f\"{_dtype.__name__}, min = {np.iinfo(_dtype).min}, max = {np.iinfo(_dtype).max}\")\n",
    "for _dtype in [np.float16, np.float32, np.float64]:\n",
    "    print(f\"{_dtype.__name__}, min = {np.finfo(_dtype).min}, max = {np.finfo(_dtype).max}\")\n",
    "\n",
    "    "
   ]
  },
  {
   "cell_type": "code",
   "execution_count": 16,
   "metadata": {},
   "outputs": [
    {
     "name": "stdout",
     "output_type": "stream",
     "text": [
      "[[0. 0. 0. ... 0. 0. 0.]\n",
      " [0. 0. 0. ... 0. 0. 0.]\n",
      " [0. 0. 0. ... 0. 0. 0.]\n",
      " ...\n",
      " [0. 0. 0. ... 0. 0. 0.]\n",
      " [0. 0. 0. ... 0. 0. 0.]\n",
      " [0. 0. 0. ... 0. 0. 0.]]\n",
      "Done\n",
      "[[0. 0. 0. 0. 0. 0. 0. 0. 0. 0. 0. 0. 0. 0. 0. 0. 0. 0. 0. 0. 0. 0. 0. 0.\n",
      "  0. 0. 0. 0. 0. 0. 0. 0. 0. 0. 0. 0. 0. 0. 0. 0.]\n",
      " [0. 0. 0. 0. 0. 0. 0. 0. 0. 0. 0. 0. 0. 0. 0. 0. 0. 0. 0. 0. 0. 0. 0. 0.\n",
      "  0. 0. 0. 0. 0. 0. 0. 0. 0. 0. 0. 0. 0. 0. 0. 0.]\n",
      " [0. 0. 0. 0. 0. 0. 0. 0. 0. 0. 0. 0. 0. 0. 0. 0. 0. 0. 0. 0. 0. 0. 0. 0.\n",
      "  0. 0. 0. 0. 0. 0. 0. 0. 0. 0. 0. 0. 0. 0. 0. 0.]\n",
      " [0. 0. 0. 0. 0. 0. 0. 0. 0. 0. 0. 0. 0. 0. 0. 0. 0. 0. 0. 0. 0. 0. 0. 0.\n",
      "  0. 0. 0. 0. 0. 0. 0. 0. 0. 0. 0. 0. 0. 0. 0. 0.]\n",
      " [0. 0. 0. 0. 0. 0. 0. 0. 0. 0. 0. 0. 0. 0. 0. 0. 0. 0. 0. 0. 0. 0. 0. 0.\n",
      "  0. 0. 0. 0. 0. 0. 0. 0. 0. 0. 0. 0. 0. 0. 0. 0.]\n",
      " [0. 0. 0. 0. 0. 0. 0. 0. 0. 0. 0. 0. 0. 0. 0. 0. 0. 0. 0. 0. 0. 0. 0. 0.\n",
      "  0. 0. 0. 0. 0. 0. 0. 0. 0. 0. 0. 0. 0. 0. 0. 0.]\n",
      " [0. 0. 0. 0. 0. 0. 0. 0. 0. 0. 0. 0. 0. 0. 0. 0. 0. 0. 0. 0. 0. 0. 0. 0.\n",
      "  0. 0. 0. 0. 0. 0. 0. 0. 0. 0. 0. 0. 0. 0. 0. 0.]\n",
      " [0. 0. 0. 0. 0. 0. 0. 0. 0. 0. 0. 0. 0. 0. 0. 0. 0. 0. 0. 0. 0. 0. 0. 0.\n",
      "  0. 0. 0. 0. 0. 0. 0. 0. 0. 0. 0. 0. 0. 0. 0. 0.]\n",
      " [0. 0. 0. 0. 0. 0. 0. 0. 0. 0. 0. 0. 0. 0. 0. 0. 0. 0. 0. 0. 0. 0. 0. 0.\n",
      "  0. 0. 0. 0. 0. 0. 0. 0. 0. 0. 0. 0. 0. 0. 0. 0.]\n",
      " [0. 0. 0. 0. 0. 0. 0. 0. 0. 0. 0. 0. 0. 0. 0. 0. 0. 0. 0. 0. 0. 0. 0. 0.\n",
      "  0. 0. 0. 0. 0. 0. 0. 0. 0. 0. 0. 0. 0. 0. 0. 0.]\n",
      " [0. 0. 0. 0. 0. 0. 0. 0. 0. 0. 0. 0. 0. 0. 0. 0. 0. 0. 0. 0. 0. 0. 0. 0.\n",
      "  0. 0. 0. 0. 0. 0. 0. 0. 0. 0. 0. 0. 0. 0. 0. 0.]\n",
      " [0. 0. 0. 0. 0. 0. 0. 0. 0. 0. 0. 0. 0. 0. 0. 0. 0. 0. 0. 0. 0. 0. 0. 0.\n",
      "  0. 0. 0. 0. 0. 0. 0. 0. 0. 0. 0. 0. 0. 0. 0. 0.]\n",
      " [0. 0. 0. 0. 0. 0. 0. 0. 0. 0. 0. 0. 0. 0. 0. 0. 0. 0. 0. 0. 0. 0. 0. 0.\n",
      "  0. 0. 0. 0. 0. 0. 0. 0. 0. 0. 0. 0. 0. 0. 0. 0.]\n",
      " [0. 0. 0. 0. 0. 0. 0. 0. 0. 0. 0. 0. 0. 0. 0. 0. 0. 0. 0. 0. 0. 0. 0. 0.\n",
      "  0. 0. 0. 0. 0. 0. 0. 0. 0. 0. 0. 0. 0. 0. 0. 0.]\n",
      " [0. 0. 0. 0. 0. 0. 0. 0. 0. 0. 0. 0. 0. 0. 0. 0. 0. 0. 0. 0. 0. 0. 0. 0.\n",
      "  0. 0. 0. 0. 0. 0. 0. 0. 0. 0. 0. 0. 0. 0. 0. 0.]\n",
      " [0. 0. 0. 0. 0. 0. 0. 0. 0. 0. 0. 0. 0. 0. 0. 0. 0. 0. 0. 0. 0. 0. 0. 0.\n",
      "  0. 0. 0. 0. 0. 0. 0. 0. 0. 0. 0. 0. 0. 0. 0. 0.]\n",
      " [0. 0. 0. 0. 0. 0. 0. 0. 0. 0. 0. 0. 0. 0. 0. 0. 0. 0. 0. 0. 0. 0. 0. 0.\n",
      "  0. 0. 0. 0. 0. 0. 0. 0. 0. 0. 0. 0. 0. 0. 0. 0.]\n",
      " [0. 0. 0. 0. 0. 0. 0. 0. 0. 0. 0. 0. 0. 0. 0. 0. 0. 0. 0. 0. 0. 0. 0. 0.\n",
      "  0. 0. 0. 0. 0. 0. 0. 0. 0. 0. 0. 0. 0. 0. 0. 0.]\n",
      " [0. 0. 0. 0. 0. 0. 0. 0. 0. 0. 0. 0. 0. 0. 0. 0. 0. 0. 0. 0. 0. 0. 0. 0.\n",
      "  0. 0. 0. 0. 0. 0. 0. 0. 0. 0. 0. 0. 0. 0. 0. 0.]\n",
      " [0. 0. 0. 0. 0. 0. 0. 0. 0. 0. 0. 0. 0. 0. 0. 0. 0. 0. 0. 0. 0. 0. 0. 0.\n",
      "  0. 0. 0. 0. 0. 0. 0. 0. 0. 0. 0. 0. 0. 0. 0. 0.]\n",
      " [0. 0. 0. 0. 0. 0. 0. 0. 0. 0. 0. 0. 0. 0. 0. 0. 0. 0. 0. 0. 0. 0. 0. 0.\n",
      "  0. 0. 0. 0. 0. 0. 0. 0. 0. 0. 0. 0. 0. 0. 0. 0.]\n",
      " [0. 0. 0. 0. 0. 0. 0. 0. 0. 0. 0. 0. 0. 0. 0. 0. 0. 0. 0. 0. 0. 0. 0. 0.\n",
      "  0. 0. 0. 0. 0. 0. 0. 0. 0. 0. 0. 0. 0. 0. 0. 0.]\n",
      " [0. 0. 0. 0. 0. 0. 0. 0. 0. 0. 0. 0. 0. 0. 0. 0. 0. 0. 0. 0. 0. 0. 0. 0.\n",
      "  0. 0. 0. 0. 0. 0. 0. 0. 0. 0. 0. 0. 0. 0. 0. 0.]\n",
      " [0. 0. 0. 0. 0. 0. 0. 0. 0. 0. 0. 0. 0. 0. 0. 0. 0. 0. 0. 0. 0. 0. 0. 0.\n",
      "  0. 0. 0. 0. 0. 0. 0. 0. 0. 0. 0. 0. 0. 0. 0. 0.]\n",
      " [0. 0. 0. 0. 0. 0. 0. 0. 0. 0. 0. 0. 0. 0. 0. 0. 0. 0. 0. 0. 0. 0. 0. 0.\n",
      "  0. 0. 0. 0. 0. 0. 0. 0. 0. 0. 0. 0. 0. 0. 0. 0.]\n",
      " [0. 0. 0. 0. 0. 0. 0. 0. 0. 0. 0. 0. 0. 0. 0. 0. 0. 0. 0. 0. 0. 0. 0. 0.\n",
      "  0. 0. 0. 0. 0. 0. 0. 0. 0. 0. 0. 0. 0. 0. 0. 0.]\n",
      " [0. 0. 0. 0. 0. 0. 0. 0. 0. 0. 0. 0. 0. 0. 0. 0. 0. 0. 0. 0. 0. 0. 0. 0.\n",
      "  0. 0. 0. 0. 0. 0. 0. 0. 0. 0. 0. 0. 0. 0. 0. 0.]\n",
      " [0. 0. 0. 0. 0. 0. 0. 0. 0. 0. 0. 0. 0. 0. 0. 0. 0. 0. 0. 0. 0. 0. 0. 0.\n",
      "  0. 0. 0. 0. 0. 0. 0. 0. 0. 0. 0. 0. 0. 0. 0. 0.]\n",
      " [0. 0. 0. 0. 0. 0. 0. 0. 0. 0. 0. 0. 0. 0. 0. 0. 0. 0. 0. 0. 0. 0. 0. 0.\n",
      "  0. 0. 0. 0. 0. 0. 0. 0. 0. 0. 0. 0. 0. 0. 0. 0.]\n",
      " [0. 0. 0. 0. 0. 0. 0. 0. 0. 0. 0. 0. 0. 0. 0. 0. 0. 0. 0. 0. 0. 0. 0. 0.\n",
      "  0. 0. 0. 0. 0. 0. 0. 0. 0. 0. 0. 0. 0. 0. 0. 0.]\n",
      " [0. 0. 0. 0. 0. 0. 0. 0. 0. 0. 0. 0. 0. 0. 0. 0. 0. 0. 0. 0. 0. 0. 0. 0.\n",
      "  0. 0. 0. 0. 0. 0. 0. 0. 0. 0. 0. 0. 0. 0. 0. 0.]\n",
      " [0. 0. 0. 0. 0. 0. 0. 0. 0. 0. 0. 0. 0. 0. 0. 0. 0. 0. 0. 0. 0. 0. 0. 0.\n",
      "  0. 0. 0. 0. 0. 0. 0. 0. 0. 0. 0. 0. 0. 0. 0. 0.]\n",
      " [0. 0. 0. 0. 0. 0. 0. 0. 0. 0. 0. 0. 0. 0. 0. 0. 0. 0. 0. 0. 0. 0. 0. 0.\n",
      "  0. 0. 0. 0. 0. 0. 0. 0. 0. 0. 0. 0. 0. 0. 0. 0.]\n",
      " [0. 0. 0. 0. 0. 0. 0. 0. 0. 0. 0. 0. 0. 0. 0. 0. 0. 0. 0. 0. 0. 0. 0. 0.\n",
      "  0. 0. 0. 0. 0. 0. 0. 0. 0. 0. 0. 0. 0. 0. 0. 0.]\n",
      " [0. 0. 0. 0. 0. 0. 0. 0. 0. 0. 0. 0. 0. 0. 0. 0. 0. 0. 0. 0. 0. 0. 0. 0.\n",
      "  0. 0. 0. 0. 0. 0. 0. 0. 0. 0. 0. 0. 0. 0. 0. 0.]\n",
      " [0. 0. 0. 0. 0. 0. 0. 0. 0. 0. 0. 0. 0. 0. 0. 0. 0. 0. 0. 0. 0. 0. 0. 0.\n",
      "  0. 0. 0. 0. 0. 0. 0. 0. 0. 0. 0. 0. 0. 0. 0. 0.]\n",
      " [0. 0. 0. 0. 0. 0. 0. 0. 0. 0. 0. 0. 0. 0. 0. 0. 0. 0. 0. 0. 0. 0. 0. 0.\n",
      "  0. 0. 0. 0. 0. 0. 0. 0. 0. 0. 0. 0. 0. 0. 0. 0.]\n",
      " [0. 0. 0. 0. 0. 0. 0. 0. 0. 0. 0. 0. 0. 0. 0. 0. 0. 0. 0. 0. 0. 0. 0. 0.\n",
      "  0. 0. 0. 0. 0. 0. 0. 0. 0. 0. 0. 0. 0. 0. 0. 0.]\n",
      " [0. 0. 0. 0. 0. 0. 0. 0. 0. 0. 0. 0. 0. 0. 0. 0. 0. 0. 0. 0. 0. 0. 0. 0.\n",
      "  0. 0. 0. 0. 0. 0. 0. 0. 0. 0. 0. 0. 0. 0. 0. 0.]\n",
      " [0. 0. 0. 0. 0. 0. 0. 0. 0. 0. 0. 0. 0. 0. 0. 0. 0. 0. 0. 0. 0. 0. 0. 0.\n",
      "  0. 0. 0. 0. 0. 0. 0. 0. 0. 0. 0. 0. 0. 0. 0. 0.]]\n",
      "Done\n",
      "[[0. 0. 0. ... 0. 0. 0.]\n",
      " [0. 0. 0. ... 0. 0. 0.]\n",
      " [0. 0. 0. ... 0. 0. 0.]\n",
      " ...\n",
      " [0. 0. 0. ... 0. 0. 0.]\n",
      " [0. 0. 0. ... 0. 0. 0.]\n",
      " [0. 0. 0. ... 0. 0. 0.]]\n"
     ]
    }
   ],
   "source": [
    "# 49. How to print all the values of an array? (★★☆)\n",
    "arr = np.zeros((40,40))\n",
    "print(arr)\n",
    "old_options = np.get_printoptions()\n",
    "np.set_printoptions(threshold=float(\"inf\"))\n",
    "print(\"Done\")\n",
    "print(arr)\n",
    "print(\"Done\")\n",
    "np.set_printoptions(**old_options)\n",
    "print(arr)"
   ]
  },
  {
   "cell_type": "code",
   "execution_count": 20,
   "metadata": {},
   "outputs": [
    {
     "name": "stdout",
     "output_type": "stream",
     "text": [
      "[ 0  1  2  3  4  5  6  7  8  9 10 11 12 13 14 15 16 17 18 19 20 21 22 23\n",
      " 24 25 26 27 28 29 30 31 32 33 34 35 36 37 38 39 40 41 42 43 44 45 46 47\n",
      " 48 49 50 51 52 53 54 55 56 57 58 59 60 61 62 63 64 65 66 67 68 69 70 71\n",
      " 72 73 74 75 76 77 78 79 80 81 82 83 84 85 86 87 88 89 90 91 92 93 94 95\n",
      " 96 97 98 99]\n",
      "70.99285497453397\n",
      "71\n"
     ]
    }
   ],
   "source": [
    "# 50. How to find the closest value (to a given scalar) in a vector? \n",
    "Z = np.arange(100)\n",
    "print(Z)\n",
    "v = np.random.uniform(0,100)\n",
    "print(v)\n",
    "index = (np.abs(Z-v)).argmin()\n",
    "print(Z[index])"
   ]
  },
  {
   "cell_type": "code",
   "execution_count": 22,
   "metadata": {},
   "outputs": [
    {
     "data": {
      "text/plain": [
       "array([((0, 0, 0), (0., 0.)), ((0, 0, 0), (0., 0.)),\n",
       "       ((0, 0, 0), (0., 0.)), ((0, 0, 0), (0., 0.)),\n",
       "       ((0, 0, 0), (0., 0.)), ((0, 0, 0), (0., 0.)),\n",
       "       ((0, 0, 0), (0., 0.)), ((0, 0, 0), (0., 0.)),\n",
       "       ((0, 0, 0), (0., 0.)), ((0, 0, 0), (0., 0.))],\n",
       "      dtype=[('colour', [('r', 'i1'), ('g', 'i1'), ('b', 'i1')]), ('pos', [('x', '<f8'), ('y', '<f8')])])"
      ]
     },
     "execution_count": 22,
     "metadata": {},
     "output_type": "execute_result"
    }
   ],
   "source": [
    "# 51. Create a structured array representing a position (x,y) and a color (r,g,b) (★★☆)\n",
    "colour_dtype = np.dtype([(\"r\", np.byte), (\"g\", np.byte), (\"b\", np.byte)])\n",
    "pos_dtype = np.dtype([(\"x\", np.float64), (\"y\", np.float64)])\n",
    "_dtype = np.dtype([(\"colour\", colour_dtype), (\"pos\", pos_dtype)])\n",
    "arr = np.zeros(10, dtype=_dtype)\n",
    "arr"
   ]
  },
  {
   "cell_type": "code",
   "execution_count": 43,
   "metadata": {},
   "outputs": [
    {
     "name": "stdout",
     "output_type": "stream",
     "text": [
      "(10,), (10,)\n",
      "(1, 10), (1, 10)\n",
      "[[0.61721464 0.18830942 0.80300144 0.20788016 0.91095684 0.06760443\n",
      "  0.27560278 0.92412496 0.71908699 0.29229373]]\n",
      "[[ 0.         -0.42890522  0.1857868  -0.40933448  0.2937422  -0.54961021\n",
      "  -0.34161186  0.30691031  0.10187234 -0.32492091]\n",
      " [ 0.42890522  0.          0.61469201  0.01957074  0.72264742 -0.120705\n",
      "   0.08729336  0.73581553  0.53077756  0.10398431]\n",
      " [-0.1857868  -0.61469201  0.         -0.59512128  0.1079554  -0.73539701\n",
      "  -0.52739866  0.12112352 -0.08391445 -0.5107077 ]\n",
      " [ 0.40933448 -0.01957074  0.59512128  0.          0.70307668 -0.14027573\n",
      "   0.06772262  0.7162448   0.51120683  0.08441357]\n",
      " [-0.2937422  -0.72264742 -0.1079554  -0.70307668  0.         -0.84335241\n",
      "  -0.63535406  0.01316811 -0.19186986 -0.61866311]\n",
      " [ 0.54961021  0.120705    0.73539701  0.14027573  0.84335241  0.\n",
      "   0.20799835  0.85652053  0.65148256  0.22468931]\n",
      " [ 0.34161186 -0.08729336  0.52739866 -0.06772262  0.63535406 -0.20799835\n",
      "   0.          0.64852217  0.44348421  0.01669095]\n",
      " [-0.30691031 -0.73581553 -0.12112352 -0.7162448  -0.01316811 -0.85652053\n",
      "  -0.64852217  0.         -0.20503797 -0.63183122]\n",
      " [-0.10187234 -0.53077756  0.08391445 -0.51120683  0.19186986 -0.65148256\n",
      "  -0.44348421  0.20503797  0.         -0.42679325]\n",
      " [ 0.32492091 -0.10398431  0.5107077  -0.08441357  0.61866311 -0.22468931\n",
      "  -0.01669095  0.63183122  0.42679325  0.        ]]\n",
      "Numpy took 0.00012493133544921875\n",
      "Scipy took 0.00011801719665527344\n",
      "True\n"
     ]
    }
   ],
   "source": [
    "# 52. Consider a random vector with shape (100,2) representing coordinates, find point by point distances (★★☆)\n",
    "import time\n",
    "arr = np.random.random((10, 2))\n",
    "X, Y = arr[:, 0], arr[:, 1]\n",
    "print(f\"{X.shape}, {Y.shape}\")\n",
    "X,Y = np.atleast_2d(arr[:,0], arr[:,1])\n",
    "print(f\"{X.shape}, {Y.shape}\")\n",
    "print(X)\n",
    "print(X - X.T)\n",
    "(X - X.T).shape\n",
    "\n",
    "# time comparison\n",
    "start = time.time()\n",
    "X,Y = np.atleast_2d(arr[:,0], arr[:,1])\n",
    "D1 = np.sqrt( (X-X.T)**2 + (Y-Y.T)**2)\n",
    "dur = time.time() - start\n",
    "print(f\"Numpy took {dur}\")\n",
    "\n",
    "# scipy is faster \n",
    "import scipy\n",
    "start = time.time()\n",
    "D2 = scipy.spatial.distance.cdist(arr, arr)\n",
    "dur = time.time() - start\n",
    "print(f\"Scipy took {dur}\")\n",
    "\n",
    "print(np.allclose(D1, D2))"
   ]
  },
  {
   "cell_type": "code",
   "execution_count": 54,
   "metadata": {},
   "outputs": [
    {
     "name": "stdout",
     "output_type": "stream",
     "text": [
      "False\n",
      "[         0 1065353216 1073741824 1077936128 1082130432 1084227584\n",
      " 1086324736 1088421888 1090519040 1091567616]\n",
      "[0 1 2 3 4 5 6 7 8 9]\n",
      "True\n"
     ]
    }
   ],
   "source": [
    "# 53. How to convert a float (32 bits) array into an integer (32 bits) in place?\n",
    "\n",
    "# doesn't work\n",
    "a = np.arange(10, dtype=np.float32)\n",
    "b = a.astype(dtype=np.int32)\n",
    "print(b.base is a)\n",
    "\n",
    "b = a.view(np.int32)\n",
    "print(b)\n",
    "b[:] = a\n",
    "print(b)\n",
    "print(b.base is a)\n"
   ]
  },
  {
   "cell_type": "code",
   "execution_count": 58,
   "metadata": {},
   "outputs": [
    {
     "name": "stdout",
     "output_type": "stream",
     "text": [
      "\n",
      "1, 2, 3, 4, 5\n",
      "6,  ,  , 7, 8\n",
      " ,  , 9,10,11\n",
      "\n",
      "[[ 1  2  3  4  5]\n",
      " [ 6 -1 -1  7  8]\n",
      " [-1 -1  9 10 11]]\n"
     ]
    }
   ],
   "source": [
    "\"\"\"\n",
    "54. How to read the following file? (★★☆)\n",
    "\n",
    "1, 2, 3, 4, 5\n",
    "6,  ,  , 7, 8\n",
    " ,  , 9,10,11\n",
    "\n",
    "\"\"\"\n",
    "import io\n",
    "fake_file_str = '''\n",
    "1, 2, 3, 4, 5\n",
    "6,  ,  , 7, 8\n",
    " ,  , 9,10,11\n",
    "'''\n",
    "print(fake_file_str)\n",
    "fake_file = io.StringIO(fake_file_str)\n",
    "\n",
    "arr = np.genfromtxt(fake_file, delimiter=\",\", dtype=np.int32)\n",
    "print(arr)"
   ]
  },
  {
   "cell_type": "code",
   "execution_count": 59,
   "metadata": {},
   "outputs": [
    {
     "name": "stdout",
     "output_type": "stream",
     "text": [
      "idx = (0, 0), val = 0\n",
      "idx = (0, 1), val = 1\n",
      "idx = (0, 2), val = 2\n",
      "idx = (1, 0), val = 3\n",
      "idx = (1, 1), val = 4\n",
      "idx = (1, 2), val = 5\n",
      "idx = (2, 0), val = 6\n",
      "idx = (2, 1), val = 7\n",
      "idx = (2, 2), val = 8\n",
      "idx = (0, 0), arr[idx] = 0\n",
      "idx = (0, 1), arr[idx] = 1\n",
      "idx = (0, 2), arr[idx] = 2\n",
      "idx = (1, 0), arr[idx] = 3\n",
      "idx = (1, 1), arr[idx] = 4\n",
      "idx = (1, 2), arr[idx] = 5\n",
      "idx = (2, 0), arr[idx] = 6\n",
      "idx = (2, 1), arr[idx] = 7\n",
      "idx = (2, 2), arr[idx] = 8\n"
     ]
    }
   ],
   "source": [
    "# 55. What is the equivalent of enumerate for numpy arrays? (★★☆)\n",
    "arr = np.arange(9).reshape((3,3))\n",
    "for idx, val in np.ndenumerate(arr):\n",
    "    print(f\"idx = {idx}, val = {val}\")\n",
    "for idx in np.ndindex(arr.shape):\n",
    "    print(f\"idx = {idx}, arr[idx] = {arr[idx]}\")"
   ]
  },
  {
   "cell_type": "code",
   "execution_count": 105,
   "metadata": {},
   "outputs": [
    {
     "name": "stdout",
     "output_type": "stream",
     "text": [
      "(5, 5)\n",
      "0.15915494309189535\n"
     ]
    },
    {
     "data": {
      "image/png": "[encoded data removed]",
      "text/plain": [
       "<Figure size 640x480 with 1 Axes>"
      ]
     },
     "metadata": {},
     "output_type": "display_data"
    }
   ],
   "source": [
    "# 56. Generate a generic 2D Gaussian-like array (★★☆)\n",
    "%matplotlib inline\n",
    "import matplotlib.pyplot as plt\n",
    "\n",
    "def generate_gauss(\n",
    "    X: np.ndarray,\n",
    "    Y: np.ndarray,\n",
    "    mx: float = 0.0,\n",
    "    my: float = 0.0,\n",
    "    sx: float = 1.0,\n",
    "    sy: float = 1.0,\n",
    "):\n",
    "    A = 1.0 / (2.0 * np.pi * sx * sy)\n",
    "    return A * np.exp(-(((X - mx)**2. / (2. * sx ** 2.)) + ((Y - my) ** 2. / (2. * sy ** 2.))))\n",
    "\n",
    "kernel_size = 11\n",
    "nx = np.linspace(-1, 1, kernel_size)\n",
    "ny = np.linspace(-1, 1, kernel_size)\n",
    "X, Y = np.meshgrid(nx, ny)\n",
    "\n",
    "gauss: np.ndarray = generate_gauss(X, Y)\n",
    "fig, ax = plt.subplots()\n",
    "con = ax.contour(X, Y, gauss)\n",
    "max_idx = np.unravel_index(gauss.argmax(), gauss.shape)\n",
    "print(max_idx)\n",
    "print(gauss[max_idx])\n",
    "ax.plot(X[max_idx], Y[max_idx], 'rx')\n",
    "ax.annotate(f\"{gauss[max_idx]:2f}\", (X[max_idx], Y[max_idx]))\n",
    "ax.clabel(con, inline=True, fontsize=10)\n",
    "plt.show()\n",
    "\n",
    "\n"
   ]
  },
  {
   "cell_type": "code",
   "execution_count": 84,
   "metadata": {},
   "outputs": [
    {
     "data": {
      "image/png": "[encoded data removed]",
      "text/plain": [
       "<Figure size 640x480 with 1 Axes>"
      ]
     },
     "metadata": {},
     "output_type": "display_data"
    }
   ],
   "source": [
    "# using builtin function\n",
    "mean = [0, 0]\n",
    "cov = [[1, 0], [0, 1]]  # diagonal covariance\n",
    "x, y = np.random.multivariate_normal(mean, cov, 500).T\n",
    "plt.figure()\n",
    "plt.plot(x, y, 'x')\n",
    "plt.axis('equal')\n",
    "plt.show()"
   ]
  },
  {
   "cell_type": "code",
   "execution_count": 107,
   "metadata": {},
   "outputs": [
    {
     "data": {
      "text/plain": [
       "array([0., 0., 0., 0., 0., 0., 1., 0., 0., 0., 0., 0., 0., 0., 0., 0., 0.,\n",
       "       0., 0., 0., 0., 0., 0., 0., 0., 1., 0., 0., 0., 0., 0., 0., 0., 0.,\n",
       "       0., 0., 0., 0., 0., 0., 0., 0., 0., 0., 0., 0., 0., 0., 0., 0., 0.,\n",
       "       0., 0., 0., 0., 0., 0., 1., 0., 0., 0., 0., 0., 0., 0., 0., 0., 0.,\n",
       "       0., 0., 0., 0., 0., 0., 0., 0., 0., 0., 0., 0., 0., 0., 0., 0., 0.,\n",
       "       0., 0., 0., 0., 0., 0., 0., 0., 0., 0., 0., 0., 0., 0., 0.])"
      ]
     },
     "execution_count": 107,
     "metadata": {},
     "output_type": "execute_result"
    }
   ],
   "source": [
    "# 57. How to randomly place p elements in a 2D array? (★★☆)\n",
    "n = 10\n",
    "arr = np.zeros((n*n))\n",
    "p = 3\n",
    "indices = np.random.choice(range(n*n), p, replace=False)\n",
    "np.put(arr, indices, 1)\n",
    "arr"
   ]
  },
  {
   "cell_type": "code",
   "execution_count": 112,
   "metadata": {},
   "outputs": [
    {
     "name": "stdout",
     "output_type": "stream",
     "text": [
      "[[ 0  1  2  3  4]\n",
      " [ 5  6  7  8  9]\n",
      " [10 11 12 13 14]\n",
      " [15 16 17 18 19]\n",
      " [20 21 22 23 24]]\n",
      "[[ 2.]\n",
      " [ 7.]\n",
      " [12.]\n",
      " [17.]\n",
      " [22.]] (5, 1) (5,)\n",
      "[[ -2.  -6. -10. -14. -18.]\n",
      " [  3.  -1.  -5.  -9. -13.]\n",
      " [  8.   4.   0.  -4.  -8.]\n",
      " [ 13.   9.   5.   1.  -3.]\n",
      " [ 18.  14.  10.   6.   2.]]\n",
      "[[-2. -1.  0.  1.  2.]\n",
      " [-2. -1.  0.  1.  2.]\n",
      " [-2. -1.  0.  1.  2.]\n",
      " [-2. -1.  0.  1.  2.]\n",
      " [-2. -1.  0.  1.  2.]]\n"
     ]
    }
   ],
   "source": [
    "# 58. Subtract the mean of each row of a matrix (★★☆)\n",
    "n = 5\n",
    "arr = np.arange((n*n)).reshape((n, n))\n",
    "print(arr)\n",
    "mean_arr = arr.mean(axis=1, keepdims=True)\n",
    "print(mean_arr, mean_arr.shape, arr.mean(axis=1).shape)\n",
    "A = arr - arr.mean(axis=1)\n",
    "print(A)\n",
    "B = arr - arr.mean(axis=1, keepdims=True)\n",
    "print(B)"
   ]
  },
  {
   "cell_type": "code",
   "execution_count": 116,
   "metadata": {},
   "outputs": [
    {
     "name": "stdout",
     "output_type": "stream",
     "text": [
      "[[9 2 3]\n",
      " [4 5 6]\n",
      " [7 0 5]]\n",
      "[2 0 1]\n",
      "[[7 0 5]\n",
      " [9 2 3]\n",
      " [4 5 6]]\n"
     ]
    }
   ],
   "source": [
    "# 59. How to sort an array by the nth column? (★★☆)\n",
    "n = 1\n",
    "arr = np.array([[9, 2, 3],[4, 5, 6],[7, 0, 5]])\n",
    "print(arr)\n",
    "print(arr[:,n].argsort())\n",
    "sorted_arr = arr[arr[:,n].argsort()]\n",
    "print(sorted_arr)"
   ]
  },
  {
   "cell_type": "code",
   "execution_count": 122,
   "metadata": {},
   "outputs": [
    {
     "name": "stdout",
     "output_type": "stream",
     "text": [
      "[ True  True False]\n",
      "[ True  True  True]\n",
      "True False\n"
     ]
    }
   ],
   "source": [
    "# 60. How to tell if a given 2D array has null columns? (★★☆)\n",
    "arr = np.array([[True, False, False], [True, True, False], [True, False, False]])\n",
    "print(arr.any(axis=0))\n",
    "print(arr.any(axis=1))\n",
    "has_null_cols = (~arr.any(axis=0)).any()\n",
    "has_null_rows = (~arr.any(axis=1)).any()\n",
    "print(has_null_cols, has_null_rows)\n"
   ]
  },
  {
   "cell_type": "code",
   "execution_count": 125,
   "metadata": {},
   "outputs": [
    {
     "name": "stdout",
     "output_type": "stream",
     "text": [
      "v = 8.314605067261157\n",
      "index = 8\n",
      "8.34\n"
     ]
    }
   ],
   "source": [
    "# 61. Find the nearest value from a given value in an array (★★☆)\n",
    "n = 5\n",
    "arr = np.arange(n*n).reshape((n, n)) + 0.34\n",
    "v = np.random.uniform(0, n*n)\n",
    "print(f\"v = {v}\")\n",
    "index = (np.abs(arr - v)).argmin()\n",
    "print(f\"index = {index}\")\n",
    "index = np.unravel_index(index, arr.shape)\n",
    "print(arr[index])"
   ]
  },
  {
   "cell_type": "code",
   "execution_count": 126,
   "metadata": {},
   "outputs": [
    {
     "name": "stdout",
     "output_type": "stream",
     "text": [
      "[[6.06786399 0.87113895 9.33774202]]\n",
      "[[4.05621856]\n",
      " [3.7431076 ]\n",
      " [4.06858435]]\n",
      "[[10.12408256  4.92735751 13.39396058]\n",
      " [ 9.81097159  4.61424655 13.08084961]\n",
      " [10.13644834  4.9397233  13.40632637]]\n"
     ]
    }
   ],
   "source": [
    "# 62. Considering two arrays with shape (1,3) and (3,1), how to compute their sum using an iterator? (★★☆)\n",
    "\n",
    "# Good docs here https://numpy.org/doc/stable/reference/arrays.nditer.html#iterator-allocated-output-arrays\n",
    "\n",
    "arr1 = np.random.uniform(0, 10, size=(1, 3))\n",
    "print(arr1)\n",
    "arr2 = np.random.uniform(0, 10, size=(3, 1))\n",
    "print(arr2)\n",
    "\n",
    "with np.nditer([arr1, arr2, None]) as it:\n",
    "    for x, y, z in it:\n",
    "        z[...] = x + y\n",
    "    out = it.operands[2]\n",
    "print(out)"
   ]
  },
  {
   "cell_type": "code",
   "execution_count": 127,
   "metadata": {},
   "outputs": [
    {
     "name": "stdout",
     "output_type": "stream",
     "text": [
      "[[0 1 2]\n",
      " [1 2 3]\n",
      " [2 3 4]]\n"
     ]
    }
   ],
   "source": [
    "# 63, official solution\n",
    "A = np.arange(3).reshape(3,1)\n",
    "B = np.arange(3).reshape(1,3)\n",
    "it = np.nditer([A,B,None])\n",
    "for x,y,z in it: z[...] = x + y\n",
    "print(it.operands[2])"
   ]
  },
  {
   "cell_type": "code",
   "execution_count": 130,
   "metadata": {},
   "outputs": [
    {
     "name": "stdout",
     "output_type": "stream",
     "text": [
      "example\n"
     ]
    }
   ],
   "source": [
    "# 63. Create an array class that has a name attribute (★★☆)\n",
    "# look at docs\n",
    "\n",
    "DEFAULT_NAME = \"unnamed_arr\"\n",
    "class ArrayWithName(np.ndarray):\n",
    "    def __new__(cls, arr, name=DEFAULT_NAME):\n",
    "        obj = np.asarray(arr).view(cls)\n",
    "        obj.name = name\n",
    "        return obj\n",
    "\n",
    "    def __array_finalize__(self, obj) -> None:\n",
    "        if obj is None:\n",
    "            return\n",
    "        self.name = getattr(obj, \"name\", DEFAULT_NAME)\n",
    "\n",
    "arr = ArrayWithName(np.arange(5), name=\"example\")\n",
    "print(arr.name)"
   ]
  },
  {
   "cell_type": "code",
   "execution_count": 132,
   "metadata": {},
   "outputs": [
    {
     "name": "stdout",
     "output_type": "stream",
     "text": [
      "[1. 1. 1. 1. 1. 1. 1. 1. 1. 1.]\n",
      "[5 9 9 9 7 2 9 6 0 3 0 2 2 8 3 4 6 7 9 0 8 5 9 1 9 7 1 1 2 1 3 3 5 4 6 5 8\n",
      " 5 2 3 4 0 3 3 9 4 1 0 3 7]\n",
      "[6. 6. 6. 9. 5. 6. 4. 5. 4. 9.]\n"
     ]
    }
   ],
   "source": [
    "# 64. Consider a given vector, how to add 1 to each element indexed by a second vector (be careful with repeated indices)? (★★★)\n",
    "arr = np.ones(10)\n",
    "print(arr)\n",
    "idx_to_increment = np.random.randint(0, len(arr), 50)\n",
    "arr += np.bincount(idx_to_increment, minlength=len(arr))\n",
    "print(idx_to_increment)\n",
    "print(arr)"
   ]
  },
  {
   "cell_type": "code",
   "execution_count": 133,
   "metadata": {},
   "outputs": [
    {
     "name": "stdout",
     "output_type": "stream",
     "text": [
      "[0. 7. 0. 6. 5. 0. 0. 0. 0. 3.]\n"
     ]
    }
   ],
   "source": [
    "# 65. How to accumulate elements of a vector (X) to an array (F) based on an index list (I),\n",
    "# where I[i] shows which index in output_arr X[i] should be added? (★★★)\n",
    "\n",
    "# want output [0. 7. 0. 6. 5. 0. 0. 0. 0. 3.]\n",
    "arr = [1,2,3,4,5,6]\n",
    "I = [1,3,9,3,4,1]\n",
    "\n",
    "# From docs- If weights is specified the input array is weighted by it,\n",
    "# i.e. if a value n is found at position i, out[n] += weight[i] instead of out[n] += 1.\n",
    "F = np.bincount(I,arr)\n",
    "print(F)\n"
   ]
  },
  {
   "cell_type": "code",
   "execution_count": 149,
   "metadata": {},
   "outputs": [
    {
     "name": "stdout",
     "output_type": "stream",
     "text": [
      "[[0 1 1 1 1]\n",
      " [1 3 3 3 1]\n",
      " [3 1 3 0 1]\n",
      " [3 2 1 3 1]\n",
      " [0 0 3 3 0]]\n",
      "[0 1 1 1 1 1 3 3 3 1 3 1 3 0 1 3 2 1 3 1 0 0 3 3 0]\n",
      "19\n",
      "19\n"
     ]
    }
   ],
   "source": [
    "# 66. Considering a (w,h,3) image of (dtype=ubyte), compute the number of unique colors (★★☆)\n",
    "\n",
    "# need to find out number of unique r,g,b tuples\n",
    "\n",
    "# generate an example image\n",
    "w, h = 5, 5\n",
    "img = np.random.randint(0, 4, (h, w, 3))  # 3 arrays each of wxh for r, g, b\n",
    "print(img[:, :, 0])\n",
    "amended_img = np.reshape(img, (-1, 3))  # make it 25 x 3 (or wh x 3)\n",
    "print(amended_img[:,0])\n",
    "\n",
    "# find number of unique rows!\n",
    "print(len(np.unique(amended_img, axis=0)))\n",
    "\n",
    "# Faster version\n",
    "# View each pixel as a single 24-bit integer, rather than three 8-bit bytes\n",
    "I24 = np.dot(img.astype(np.uint32),[1,256,65536]) # the second arr is [2^0, 2^8, 1^16]\n",
    "print(len(np.unique(I24)))\n",
    "\n"
   ]
  },
  {
   "cell_type": "code",
   "execution_count": 153,
   "metadata": {},
   "outputs": [
    {
     "name": "stdout",
     "output_type": "stream",
     "text": [
      "[[51 65 69 72]\n",
      " [65 74 58 54]\n",
      " [45 37 68 55]]\n",
      "(3, 4, 12)\n",
      "[[51 65 69 72]\n",
      " [65 74 58 54]\n",
      " [45 37 68 55]]\n"
     ]
    }
   ],
   "source": [
    "# 67. Considering a four dimensions array, how to get sum over the last two axis at once? (★★★)\n",
    "arr = np.random.randint(0, 10, size=(3, 4, 3, 4))\n",
    "arr_sum = arr.sum(axis=(-2, -1))\n",
    "print(arr_sum)\n",
    "\n",
    "# another way - useful for functions that don't accept tuples for axis argument\n",
    "reshaped_arr = arr.reshape(arr.shape[:-2] + (-1,))\n",
    "print(reshaped_arr.shape)\n",
    "arr_sum = reshaped_arr.sum(axis=-1)\n",
    "print(arr_sum)"
   ]
  },
  {
   "cell_type": "code",
   "execution_count": null,
   "metadata": {},
   "outputs": [],
   "source": []
  }
 ],
 "metadata": {
  "kernelspec": {
   "display_name": "Python 3.9.9 64-bit ('py-39')",
   "language": "python",
   "name": "python3"
  },
  "language_info": {
   "codemirror_mode": {
    "name": "ipython",
    "version": 3
   },
   "file_extension": ".py",
   "mimetype": "text/x-python",
   "name": "python",
   "nbconvert_exporter": "python",
   "pygments_lexer": "ipython3",
   "version": "3.9.9"
  },
  "orig_nbformat": 4,
  "vscode": {
   "interpreter": {
    "hash": "0bd928d294a327b5e7711811b48e3d6fbb7ebd8a296b593ba97841fbdc2401a8"
   }
  }
 },
 "nbformat": 4,
 "nbformat_minor": 2
}
